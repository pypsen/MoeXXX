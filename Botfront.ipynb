{
 "cells": [
  {
   "cell_type": "code",
   "execution_count": 137,
   "metadata": {},
   "outputs": [],
   "source": [
    "import telebot\n",
    "from telebot import types\n",
    "import time\n",
    "coun=0 #fortinder\n",
    "from requests import get\n",
    "starlist = ['lll', 'iii', 'sss', 'ttt']"
   ]
  },
  {
   "cell_type": "markdown",
   "metadata": {},
   "source": [
    "Переменные и базы"
   ]
  },
  {
   "cell_type": "code",
   "execution_count": 138,
   "metadata": {},
   "outputs": [],
   "source": [
    "starlist = ['lll', 'iii', 'sss', 'ttt']\n"
   ]
  },
  {
   "cell_type": "code",
   "execution_count": 139,
   "metadata": {},
   "outputs": [],
   "source": [
    "profiles = {1 : {'metro' : [],\n",
    "                 'salary' : None,\n",
    "                 'city' : None ,\n",
    "                 'key_words' : []}\n",
    "           }\n"
   ]
  },
  {
   "cell_type": "markdown",
   "metadata": {},
   "source": [
    "Это главное меню, тут все норм работает"
   ]
  },
  {
   "cell_type": "code",
   "execution_count": 140,
   "metadata": {},
   "outputs": [],
   "source": [
    "bot = telebot.TeleBot(\"1577869583:AAHK8fnh5zPfFCskQtY2X7KVsq_mcYlT_nE\")\n",
    "@bot.message_handler(commands=['start'])\n",
    "def send_keyboard(message, text=\"Привет, чем я могу тебе помочь?\"):\n",
    "\n",
    "    keyboard = types.ReplyKeyboardMarkup(row_width=2)  # наша клавиатура\n",
    "    itembtn1 = types.KeyboardButton('Подбор вакансии') # создадим кнопку\n",
    "    itembtn2 = types.KeyboardButton('Аналитика')\n",
    "    itembtn3 = types.KeyboardButton('Избранное')\n",
    "    itembtn4 = types.KeyboardButton('Мой профиль')\n",
    "    keyboard.add(itembtn1, itembtn2) \n",
    "    keyboard.add(itembtn3, itembtn4) \n",
    "    resp = bot.send_message(message.from_user.id,\n",
    "                     text=text, reply_markup=keyboard)\n",
    "    if resp.from_user.id not in profiles.keys():\n",
    "        profiles[message.from_user.id] =  {'metro' : 'Данные не указаны',\n",
    "                 'salary' : 'Данные не указаны',\n",
    "                 'city' : 'Данные не указаны' ,\n",
    "                 'key_words' : []}\n",
    "    \n",
    "    bot.register_next_step_handler(resp, hub1)\n",
    "    \n"
   ]
  },
  {
   "cell_type": "markdown",
   "metadata": {},
   "source": [
    "Это навигатор по менюшке"
   ]
  },
  {
   "cell_type": "code",
   "execution_count": 141,
   "metadata": {},
   "outputs": [],
   "source": [
    "def hub1(resp): #navigator po menu\n",
    "    if resp.text == 'Подбор вакансии':\n",
    "        msg = bot.send_message(resp.from_user.id,\n",
    "                     text='Укажи название вакансии')\n",
    "        bot.register_next_step_handler(msg, tndr)\n",
    "    elif resp.text == 'Аналитика':\n",
    "        msg = bot.send_message(resp.from_user.id,\n",
    "                     text='Укажи название вакансии чтобы получить подробную аналитику')\n",
    "        bot.register_next_step_handler(msg, anal)\n",
    "    elif resp.text == 'Избранное':\n",
    "        msg = bot.send_message(resp.from_user.id,\n",
    "                     text = 'Ваши сохраненные объявления:')\n",
    "        star(resp)\n",
    "    elif resp.text == 'Мой профиль':\n",
    "        bot.send_message(resp.from_user.id,\n",
    "                     text='Ваш профиль')\n",
    "        profile(resp)\n",
    "    else:\n",
    "        bot.send_message(resp.from_user.id,\n",
    "                     text='Некорректно')\n",
    "        send_keyboard(resp)\n"
   ]
  },
  {
   "cell_type": "markdown",
   "metadata": {},
   "source": [
    "## Тиндер\n",
    "Работающий, вместо джангира просто вакансии прифигачить и в да функцию сохранения в переменную старлист"
   ]
  },
  {
   "cell_type": "code",
   "execution_count": 142,
   "metadata": {},
   "outputs": [],
   "source": [
    "def tndr(resp): # tinder\n",
    "    global coun\n",
    "    coun+=1\n",
    "    keyboard = types.ReplyKeyboardMarkup(row_width=2)  # наша клавиатура\n",
    "    itembtn1 = types.KeyboardButton('Сохранить') # создадим кнопку\n",
    "    itembtn2 = types.KeyboardButton('Следующее')\n",
    "    itembtn3 = types.KeyboardButton('В главное меню')\n",
    "    keyboard.add(itembtn1, itembtn2, itembtn3) \n",
    "    msg=bot.send_message(resp.from_user.id,\n",
    "                    text=f'Джангир, {coun} лет', reply_markup=keyboard)\n",
    "    bot.register_next_step_handler(msg, tndr2)\n",
    " \n",
    "\n",
    "def tndr2(resp):\n",
    "    global coun\n",
    "    if resp.text == 'Сохранить':\n",
    "        bot.send_message(resp.from_user.id, text='saved')\n",
    "        tndr(resp)\n",
    "    elif resp.text == 'В главное меню':\n",
    "        message = bot.send_message(resp.from_user.id,text='Добро пожаловать в главное меню')\n",
    "        coun = 0\n",
    "        send_keyboard(resp)\n",
    "    else:\n",
    "        # bot.send_message(resp.from_user.id, text='Приму это за нет и сохранять не буду')\n",
    "        tndr(resp)\n",
    "\n"
   ]
  },
  {
   "cell_type": "markdown",
   "metadata": {},
   "source": [
    "## Для аналитики\n",
    " вместо пикчи график, вместо текста чет полезное, прост подставить"
   ]
  },
  {
   "cell_type": "code",
   "execution_count": 143,
   "metadata": {
    "scrolled": true
   },
   "outputs": [],
   "source": [
    "def anal(resp):\n",
    "    keyboard = types.ReplyKeyboardMarkup(row_width=2) \n",
    "    itembtn1 = types.KeyboardButton('Ищо') # создадим кнопку\n",
    "    itembtn2 = types.KeyboardButton('Не ищо')\n",
    "    keyboard.add(itembtn1, itembtn2) \n",
    "    msg = bot.send_message(resp.from_user.id, text='Графичек',reply_markup=keyboard)\n",
    "    bot.send_photo(resp.chat.id,\"https://vk.com/memy_pro_kotow?z=photo-95648824_457263545%2Falbum-95648824_00%2Frev\")  # наша клавиатура\n",
    "    bot.register_next_step_handler(msg, anal2)\n",
    "\n",
    "def anal2(resp):\n",
    "    if resp.text == 'Ищо':\n",
    "        msg=bot.send_message(resp.from_user.id, text='Вводи тогда еще одну вакансию')\n",
    "        bot.register_next_step_handler(msg, anal)\n",
    "    elif resp.text =='Не ищо':\n",
    "        msg=bot.send_message(resp.from_user.id, text='Пиздуй-бороздуй')\n",
    "        send_keyboard(resp)\n",
    "    else:\n",
    "        msg=bot.send_message(resp.from_user.id, text='Ты бы лучше на кнопку нажал')\n",
    "        bot.register_next_step_handler(msg, anal2)\n",
    "\n",
    "    \n"
   ]
  },
  {
   "cell_type": "markdown",
   "metadata": {},
   "source": [
    "## Избранное\n",
    "старлист - список избранного(настоящий), просто надо его генерить из тиндера. Сюда даже подставлять ниче не надо"
   ]
  },
  {
   "cell_type": "code",
   "execution_count": 144,
   "metadata": {},
   "outputs": [],
   "source": [
    "def star(resp):\n",
    "    global starlist\n",
    "    if starlist!=[]:\n",
    "        for i in range(len(starlist)):\n",
    "            bot.send_message(resp.from_user.id, text = str(i+1) + ' ' + starlist[i])\n",
    "        keyboard = types.ReplyKeyboardMarkup(row_width=2) \n",
    "        itembtn3 = types.KeyboardButton('Удалить все') # создадим кнопку\n",
    "        itembtn4 = types.KeyboardButton('Назад')\n",
    "        keyboard.add(itembtn3, itembtn4) \n",
    "        msg = bot.send_message(resp.from_user.id, text = 'Введите номер объявления, которое хотите удалить, или нажмите кнопку \"удалить все\"', reply_markup=keyboard)\n",
    "        bot.register_next_step_handler(msg, star2)\n",
    "    else:\n",
    "        bot.send_message(resp.from_user.id, text = 'У вас нет сохраненных объявлений')\n",
    "        send_keyboard(resp)\n",
    "    \n",
    "\n",
    "    \n",
    "    \n",
    "def star2(resp):\n",
    "    global starlist\n",
    "    if resp.text.isdigit():\n",
    "        n = int(resp.text)\n",
    "        try:\n",
    "            starlist.pop(n-1)\n",
    "            msg = bot.send_message(resp.from_user.id, \n",
    "                                   text='Объявление удалено, нажмите любую кнопку')\n",
    "            bot.register_next_step_handler(msg, star2)\n",
    "        except:\n",
    "            msg = bot.send_message(resp.from_user.id, \n",
    "                                   text='Число введено некорректно, нажмите любую кнопку')\n",
    "            bot.register_next_step_handler(resp, star2)\n",
    "    if resp.text == 'Удалить все':\n",
    "        starlist[resp.chat.id] = []\n",
    "        msg = bot.send_message(resp.from_user.id, text = 'Все ваши объявления удалены!')\n",
    "        send_keyboard(resp)\n",
    "    if resp.text == 'Назад':\n",
    "        send_keyboard(resp)\n"
   ]
  },
  {
   "cell_type": "markdown",
   "metadata": {},
   "source": [
    "## Заполнение профиля\n",
    "Тут внутрь функций город зп станция подставить работу с полученным респонсом(запись в базу), вместо первого сообщения реальный профиль, все остальное норм"
   ]
  },
  {
   "cell_type": "code",
   "execution_count": 145,
   "metadata": {},
   "outputs": [
    {
     "name": "stderr",
     "output_type": "stream",
     "text": [
      "2021-06-16 23:30:00,216 (__init__.py:489 MainThread) ERROR - TeleBot: \"Infinity polling exception: list assignment index out of range\"\n",
      "2021-06-16 23:30:00,218 (__init__.py:491 MainThread) ERROR - TeleBot: \"Exception traceback:\n",
      "Traceback (most recent call last):\n",
      "  File \"C:\\Users\\wanen\\anaconda3\\lib\\site-packages\\telebot\\__init__.py\", line 486, in infinity_polling\n",
      "    self.polling(none_stop=True, timeout=timeout, long_polling_timeout=long_polling_timeout, *args, **kwargs)\n",
      "  File \"C:\\Users\\wanen\\anaconda3\\lib\\site-packages\\telebot\\__init__.py\", line 514, in polling\n",
      "    self.__threaded_polling(none_stop, interval, timeout, long_polling_timeout)\n",
      "  File \"C:\\Users\\wanen\\anaconda3\\lib\\site-packages\\telebot\\__init__.py\", line 573, in __threaded_polling\n",
      "    raise e\n",
      "  File \"C:\\Users\\wanen\\anaconda3\\lib\\site-packages\\telebot\\__init__.py\", line 536, in __threaded_polling\n",
      "    self.worker_pool.raise_exceptions()\n",
      "  File \"C:\\Users\\wanen\\anaconda3\\lib\\site-packages\\telebot\\util.py\", line 117, in raise_exceptions\n",
      "    raise self.exception_info\n",
      "  File \"C:\\Users\\wanen\\anaconda3\\lib\\site-packages\\telebot\\util.py\", line 69, in run\n",
      "    task(*args, **kwargs)\n",
      "  File \"<ipython-input-144-26229ea2d3dd>\", line 33, in star2\n",
      "    starlist[resp.chat.id] = []\n",
      "IndexError: list assignment index out of range\n",
      "\"\n",
      "2021-06-16 23:30:18,385 (__init__.py:495 MainThread) ERROR - TeleBot: \"Infinity polling: polling exited\"\n",
      "2021-06-16 23:30:18,385 (__init__.py:497 MainThread) ERROR - TeleBot: \"Break infinity polling\"\n"
     ]
    }
   ],
   "source": [
    "def profile(resp):\n",
    "    \n",
    "    metro = 'Ваша станция метро: ' + profiles[resp.from_user.id]['metro'] + '\\n' \n",
    "    city = 'Ваш город: ' + profiles[resp.from_user.id]['city'] + '\\n'\n",
    "    key_words = 'Ключевые слова поиска:\\n'\n",
    "    for item in profiles[resp.from_user.id]['key_words']:\n",
    "        key_words += item + '\\n'\n",
    "    salary = 'Минимальная зарплата:\\n' + str(profiles[resp.from_user.id]['salary'])\n",
    "    msg_text =  city + metro + key_words + salary\n",
    "    \n",
    "    keyboard = types.ReplyKeyboardMarkup(row_width=2) \n",
    "    itembtn1 = types.KeyboardButton('Город') # создадим кнопку\n",
    "    itembtn2 = types.KeyboardButton('Станция метро')\n",
    "    itembtn3 = types.KeyboardButton('Минимальная зароботная плата') # создадим кнопку\n",
    "    itembtn4 = types.KeyboardButton('Назад')\n",
    "    keyboard.add(itembtn1, itembtn2) \n",
    "    keyboard.add(itembtn3, itembtn4) \n",
    "    bot.send_message(resp.from_user.id, text = msg_text)\n",
    "    msg = bot.send_message(resp.from_user.id, text='Выбери раздел, в который вы хотите внести изменения', \n",
    "                             reply_markup=keyboard)\n",
    "    bot.register_next_step_handler(msg, profile0)\n",
    "    \n",
    "def profile0(resp):\n",
    "    if resp.text == 'Город':\n",
    "        msg = bot.send_message(resp.from_user.id, text='Введи изменения')\n",
    "        bot.register_next_step_handler(msg, city)\n",
    "    elif resp.text == 'Станция метро':\n",
    "        msg = bot.send_message(resp.from_user.id, text='Введи изменения')\n",
    "        bot.register_next_step_handler(msg, metro)\n",
    "    elif resp.text == 'Минимальная зароботная плата':\n",
    "        msg = bot.send_message(resp.from_user.id, text='Введи изменения')\n",
    "        bot.register_next_step_handler(msg, payment)\n",
    "    elif resp.text == 'Назад':\n",
    "        send_keyboard(resp)\n",
    "    else:\n",
    "        msg=bot.send_message(resp.from_user.id, text='Вы не нажали кнопку')\n",
    "        bot.register_next_step_handler(msg, profile0)\n",
    "        \n",
    "def city(resp):\n",
    "    profiles[resp.from_user.id]['city'] = resp.text\n",
    "    bot.send_message(resp.from_user.id, text='Изменения приняты, нажмите любую кнопку')\n",
    "    bot.register_next_step_handler(resp, profile)\n",
    "    \n",
    "def metro(resp):\n",
    "    profiles[resp.from_user.id]['metro'] = resp.text\n",
    "    bot.send_message(resp.from_user.id, text='Изменения приняты, нажмите любую кнопку')\n",
    "    bot.register_next_step_handler(resp, profile)\n",
    "    \n",
    "def payment(resp):\n",
    "    profiles[resp.from_user.id]['salary'] = int(resp.text)\n",
    "    bot.send_message(resp.from_user.id, text='Изменения приняты, нажмите любую кнопку')\n",
    "    bot.register_next_step_handler(resp, profile)\n",
    "\n",
    "bot.infinity_polling()\n"
   ]
  },
  {
   "cell_type": "code",
   "execution_count": 146,
   "metadata": {},
   "outputs": [
    {
     "ename": "NameError",
     "evalue": "name 'id_1' is not defined",
     "output_type": "error",
     "traceback": [
      "\u001b[1;31m---------------------------------------------------------------------------\u001b[0m",
      "\u001b[1;31mNameError\u001b[0m                                 Traceback (most recent call last)",
      "\u001b[1;32m<ipython-input-146-bb90781d9c12>\u001b[0m in \u001b[0;36m<module>\u001b[1;34m\u001b[0m\n\u001b[1;32m----> 1\u001b[1;33m \u001b[0mid_1\u001b[0m\u001b[1;33m\u001b[0m\u001b[1;33m\u001b[0m\u001b[0m\n\u001b[0m",
      "\u001b[1;31mNameError\u001b[0m: name 'id_1' is not defined"
     ]
    }
   ],
   "source": [
    "id_1"
   ]
  },
  {
   "cell_type": "code",
   "execution_count": null,
   "metadata": {},
   "outputs": [],
   "source": [
    "profiles"
   ]
  },
  {
   "cell_type": "code",
   "execution_count": null,
   "metadata": {},
   "outputs": [],
   "source": []
  },
  {
   "cell_type": "code",
   "execution_count": null,
   "metadata": {},
   "outputs": [],
   "source": []
  },
  {
   "cell_type": "code",
   "execution_count": null,
   "metadata": {},
   "outputs": [],
   "source": []
  },
  {
   "cell_type": "code",
   "execution_count": null,
   "metadata": {},
   "outputs": [],
   "source": []
  },
  {
   "cell_type": "code",
   "execution_count": null,
   "metadata": {},
   "outputs": [],
   "source": []
  },
  {
   "cell_type": "code",
   "execution_count": null,
   "metadata": {},
   "outputs": [],
   "source": []
  },
  {
   "cell_type": "code",
   "execution_count": null,
   "metadata": {},
   "outputs": [],
   "source": []
  },
  {
   "cell_type": "code",
   "execution_count": null,
   "metadata": {},
   "outputs": [],
   "source": []
  }
 ],
 "metadata": {
  "kernelspec": {
   "display_name": "Python 3",
   "language": "python",
   "name": "python3"
  },
  "language_info": {
   "codemirror_mode": {
    "name": "ipython",
    "version": 3
   },
   "file_extension": ".py",
   "mimetype": "text/x-python",
   "name": "python",
   "nbconvert_exporter": "python",
   "pygments_lexer": "ipython3",
   "version": "3.8.5"
  }
 },
 "nbformat": 4,
 "nbformat_minor": 4
}
