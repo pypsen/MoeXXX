{
 "cells": [
  {
   "cell_type": "code",
   "execution_count": 6,
   "metadata": {},
   "outputs": [],
   "source": [
    "def sell(client_id, ticker, quantity):\n",
    "    global stocks, clients                                               #возможно while\n",
    "    cost = stocks[ticker]['current_price'] * quantity\n",
    "    if ticker not in clients[client_id]['stocks'].keys():\n",
    "        clients[client_id]['stocks'][ticker] = {'buy_price': 0, 'quantity': 0}\n",
    "    clients[client_id]['account'] += cost\n",
    "    if quantity < clients[client_id]['stocks'][ticker]['quantity']:\n",
    "        clients[client_id]['stocks'][ticker]['buy_price'] = stocks[ticker]['current_price']\n",
    "    clients[client_id]['stocks'][ticker]['quantity'] -= quantity"
   ]
  },
  {
   "cell_type": "code",
   "execution_count": null,
   "metadata": {},
   "outputs": [],
   "source": []
  }
 ],
 "metadata": {
  "kernelspec": {
   "display_name": "Python 3",
   "language": "python",
   "name": "python3"
  },
  "language_info": {
   "codemirror_mode": {
    "name": "ipython",
    "version": 3
   },
   "file_extension": ".py",
   "mimetype": "text/x-python",
   "name": "python",
   "nbconvert_exporter": "python",
   "pygments_lexer": "ipython3",
   "version": "3.8.5"
  }
 },
 "nbformat": 4,
 "nbformat_minor": 4
}
