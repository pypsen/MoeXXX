{
 "cells": [
  {
   "cell_type": "markdown",
   "metadata": {},
   "source": [
    "Создаем макет массива с данными о всех клиентах"
   ]
  },
  {
   "cell_type": "code",
   "execution_count": 138,
   "metadata": {},
   "outputs": [],
   "source": [
    "clients = dict()"
   ]
  },
  {
   "cell_type": "markdown",
   "metadata": {},
   "source": [
    "Макет массива с данными о всех акциях"
   ]
  },
  {
   "cell_type": "code",
   "execution_count": 139,
   "metadata": {},
   "outputs": [
    {
     "data": {
      "text/plain": [
       "{'sample_ticker': {'current_pice': 5, 'company_name': '123', 'info': {}},\n",
       " 'sample_ticker_1': {'current_pice': 5, 'company_name': '123', 'info': {}}}"
      ]
     },
     "execution_count": 139,
     "metadata": {},
     "output_type": "execute_result"
    }
   ],
   "source": [
    "stocks = dict()\n",
    "\n",
    "stocks['sample_ticker'] = {'current_pice' : 5, 'company_name' : '123', 'info' : {}}\n",
    "stocks['sample_ticker_1'] = {'current_pice' : 5, 'company_name' : '123', 'info' : {}}\n",
    "stocks"
   ]
  },
  {
   "cell_type": "markdown",
   "metadata": {},
   "source": [
    "Пишем функцию регистрации нового клиента"
   ]
  },
  {
   "cell_type": "code",
   "execution_count": 140,
   "metadata": {},
   "outputs": [],
   "source": [
    "def register(client_id):\n",
    "    global clients\n",
    "    if client_id not in clients:\n",
    "        clients[client_id] = {'stocks': {},\n",
    "                              'registration_date': 0,\n",
    "                              'history': [],\n",
    "                              'account': 1000000\n",
    "                             }"
   ]
  },
  {
   "cell_type": "code",
   "execution_count": 165,
   "metadata": {},
   "outputs": [
    {
     "data": {
      "text/plain": [
       "{'vanko': {'stocks': {'sample_ticker_1': {'buy_price': 0, 'quantity': 200}},\n",
       "  'registration_date': 0,\n",
       "  'history': [],\n",
       "  'account': 999000}}"
      ]
     },
     "execution_count": 165,
     "metadata": {},
     "output_type": "execute_result"
    }
   ],
   "source": [
    "register ('vanko')\n",
    "clients"
   ]
  },
  {
   "cell_type": "markdown",
   "metadata": {},
   "source": [
    "Балдеж, идем дальше\n",
    "\n",
    "Напишем функцию покупки акции\n"
   ]
  },
  {
   "cell_type": "code",
   "execution_count": 175,
   "metadata": {},
   "outputs": [],
   "source": [
    "def buy(client_id, ticker, quantity):\n",
    "    global stocks, clients    \n",
    "    if ticker not in stocks.keys():                          #возможно while\n",
    "        print('invalid ticker')\n",
    "    cost = stocks[ticker]['current_pice'] * quantity\n",
    "    print('Стоимость сделки: ', cost)\n",
    "    if cost > clients[client_id]['account']:                 #возможно while\n",
    "        print('Недостаточно средств')\n",
    "    else:\n",
    "        print('Подтвердите сделку, 1 - да, 0 - нет')\n",
    "        ans = int(input())\n",
    "        if ans == 1:\n",
    "            if ticker not in clients[client_id]['stocks'].keys():\n",
    "                clients[client_id]['stocks'] = {ticker :{'buy_price': 0, 'quantity': 0}}\n",
    "            clients[client_id]['account'] -= cost\n",
    "            clients[client_id]['stocks'][ticker]['quantity'] += quantity\n",
    "            print('Сделка совершена!')\n",
    "            \n",
    "            \n",
    "def sell(client_id, ticker, quantity):\n",
    "    global stocks, clients    \n",
    "    if ticker not in stocks.keys():                                   #возможно while\n",
    "        print('invalid ticker')\n",
    "    cost = stocks[ticker]['current_pice'] * quantity\n",
    "    print('Стоимость сделки: ', cost)\n",
    "    if  quantity > clients[client_id]['stocks'][ticker]['quantity']:              #возможно while\n",
    "        print('Недостаточно активов')\n",
    "    else:\n",
    "        print('Подтвердите сделку, 1 - да, 0 - нет')\n",
    "        ans = int(input())\n",
    "        if ans == 1:\n",
    "            if ticker not in clients[client_id]['stocks'].keys():\n",
    "                clients[client_id]['stocks'] = {ticker :{'buy_price': 0, 'quantity': 0}}\n",
    "            clients[client_id]['account'] += cost\n",
    "            clients[client_id]['stocks'][ticker]['quantity'] += quantity\n",
    "            print('Сделка совершена!')\n",
    "        \n"
   ]
  },
  {
   "cell_type": "code",
   "execution_count": 176,
   "metadata": {},
   "outputs": [
    {
     "name": "stdout",
     "output_type": "stream",
     "text": [
      "Стоимость сделки:  250\n",
      "Подтвердите сделку, 1 - да, 0 - нет\n",
      "1\n",
      "Сделка совершена!\n"
     ]
    }
   ],
   "source": [
    "buy('vanko','sample_ticker_1',50)"
   ]
  },
  {
   "cell_type": "code",
   "execution_count": 179,
   "metadata": {},
   "outputs": [
    {
     "name": "stdout",
     "output_type": "stream",
     "text": [
      "Стоимость сделки:  250\n",
      "Подтвердите сделку, 1 - да, 0 - нет\n",
      "1\n",
      "Сделка совершена!\n"
     ]
    }
   ],
   "source": [
    "sell('vanko','sample_ticker_1',50)"
   ]
  },
  {
   "cell_type": "code",
   "execution_count": 177,
   "metadata": {},
   "outputs": [
    {
     "data": {
      "text/plain": [
       "{'sample_ticker': {'current_pice': 5, 'company_name': '123', 'info': {}},\n",
       " 'sample_ticker_1': {'current_pice': 5, 'company_name': '123', 'info': {}}}"
      ]
     },
     "execution_count": 177,
     "metadata": {},
     "output_type": "execute_result"
    }
   ],
   "source": [
    "stocks"
   ]
  },
  {
   "cell_type": "code",
   "execution_count": 180,
   "metadata": {},
   "outputs": [
    {
     "data": {
      "text/plain": [
       "{'vanko': {'stocks': {'sample_ticker_1': {'buy_price': 0, 'quantity': 450}},\n",
       "  'registration_date': 0,\n",
       "  'history': [],\n",
       "  'account': 998250}}"
      ]
     },
     "execution_count": 180,
     "metadata": {},
     "output_type": "execute_result"
    }
   ],
   "source": [
    "clients"
   ]
  },
  {
   "cell_type": "code",
   "execution_count": null,
   "metadata": {},
   "outputs": [],
   "source": []
  },
  {
   "cell_type": "code",
   "execution_count": null,
   "metadata": {},
   "outputs": [],
   "source": []
  }
 ],
 "metadata": {
  "kernelspec": {
   "display_name": "Python 3",
   "language": "python",
   "name": "python3"
  },
  "language_info": {
   "codemirror_mode": {
    "name": "ipython",
    "version": 3
   },
   "file_extension": ".py",
   "mimetype": "text/x-python",
   "name": "python",
   "nbconvert_exporter": "python",
   "pygments_lexer": "ipython3",
   "version": "3.8.5"
  }
 },
 "nbformat": 4,
 "nbformat_minor": 4
}
