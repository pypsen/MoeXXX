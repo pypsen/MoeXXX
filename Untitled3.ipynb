{
 "cells": [
  {
   "cell_type": "code",
   "execution_count": 6,
   "metadata": {},
   "outputs": [],
   "source": [
    "import telebot\n",
    "from telebot import types\n",
    "import time\n",
    "coun=0 #fortinder\n",
    "from requests import get"
   ]
  },
  {
   "cell_type": "code",
   "execution_count": 7,
   "metadata": {},
   "outputs": [],
   "source": [
    "bot = telebot.TeleBot(\"1874823468:AAEbRri8tSAL0gIx4DlTXpjHIhWP-0JNmUw\")\n",
    "@bot.message_handler(commands=['start'])\n",
    "def send_keyboard(message, text=\"Привет, чем я могу тебе помочь?\"):\n",
    "    keyboard = types.ReplyKeyboardMarkup(row_width=2)  # наша клавиатура\n",
    "    itembtn1 = types.KeyboardButton('Подбор вакансии') # создадим кнопку\n",
    "    itembtn2 = types.KeyboardButton('Аналитика')\n",
    "    itembtn3 = types.KeyboardButton('Избранное')\n",
    "    itembtn4 = types.KeyboardButton('Мой профиль')\n",
    "    keyboard.add(itembtn1, itembtn2) \n",
    "    keyboard.add(itembtn3, itembtn4) \n",
    "    resp = bot.send_message(message.from_user.id,\n",
    "                     text=text, reply_markup=keyboard)\n",
    "\n",
    "    bot.register_next_step_handler(resp, hub1)\n",
    "    \n"
   ]
  },
  {
   "cell_type": "code",
   "execution_count": 8,
   "metadata": {},
   "outputs": [],
   "source": [
    "def hub1(resp): #navigator po menu\n",
    "    if resp.text == 'Подбор вакансии':\n",
    "        msg = bot.send_message(resp.from_user.id,\n",
    "                     text='Укажи название вакансии')\n",
    "        bot.register_next_step_handler(msg, tndr)\n",
    "    if resp.text == 'Аналитика':\n",
    "        msg = bot.send_message(resp.from_user.id,\n",
    "                     text='Укажи название вакансии чтобы получить подробную аналитику')\n",
    "        bot.register_next_step_handler(msg, anal)\n",
    "    if resp.text == 'Избранное':\n",
    "        bot.send_message(resp.from_user.id,\n",
    "                     text='Вот твое избранное:')\n",
    "    if resp.text == 'Мой профиль':\n",
    "        bot.send_message(resp.from_user.id,\n",
    "                     text='Вот твой профиль')\n"
   ]
  },
  {
   "cell_type": "markdown",
   "metadata": {},
   "source": [
    "## Тиндер\n",
    "Работающий, вместо джангира просто вакансии прифигачить и в да функцию сохранения"
   ]
  },
  {
   "cell_type": "code",
   "execution_count": 9,
   "metadata": {},
   "outputs": [],
   "source": [
    "def tndr(resp): # tinder\n",
    "    global coun\n",
    "    coun+=1\n",
    "    keyboard = types.ReplyKeyboardMarkup(row_width=2)  # наша клавиатура\n",
    "    itembtn1 = types.KeyboardButton('Да') # создадим кнопку\n",
    "    itembtn2 = types.KeyboardButton('Нет')\n",
    "    itembtn3 = types.KeyboardButton('Астанавитес')\n",
    "    keyboard.add(itembtn1, itembtn2, itembtn3) \n",
    "    msg=bot.send_message(resp.from_user.id,\n",
    "                    text=f'Джангир, {coun} лет', reply_markup=keyboard)\n",
    "    bot.register_next_step_handler(msg, tndr2)\n",
    " \n",
    "def tndr2(resp):\n",
    "    global coun\n",
    "    if resp.text == 'Да':\n",
    "        bot.send_message(resp.from_user.id, text='saved')\n",
    "        tndr(resp)\n",
    "    elif resp.text == 'Астанавитес':\n",
    "        message = bot.send_message(resp.from_user.id,text='Пиздуй-бороздуй')\n",
    "        coun = 0\n",
    "        send_keyboard(resp)\n",
    "    else:\n",
    "        bot.send_message(resp.from_user.id, text='Приму это за нет и сохранять не буду')\n",
    "        tndr(resp)\n",
    "\n"
   ]
  },
  {
   "cell_type": "markdown",
   "metadata": {},
   "source": [
    "## Для аналитики\n",
    " вместо пикчи график, вместо текста чет полезное, прост подставить"
   ]
  },
  {
   "cell_type": "code",
   "execution_count": 10,
   "metadata": {
    "scrolled": true
   },
   "outputs": [
    {
     "name": "stderr",
     "output_type": "stream",
     "text": [
      "2021-06-16 04:24:31,163 (__init__.py:495 MainThread) ERROR - TeleBot: \"Infinity polling: polling exited\"\n",
      "2021-06-16 04:24:31,163 (__init__.py:497 MainThread) ERROR - TeleBot: \"Break infinity polling\"\n"
     ]
    }
   ],
   "source": [
    "def anal(resp):\n",
    "    keyboard = types.ReplyKeyboardMarkup(row_width=2) \n",
    "    itembtn1 = types.KeyboardButton('Ищо') # создадим кнопку\n",
    "    itembtn2 = types.KeyboardButton('Не ищо')\n",
    "    keyboard.add(itembtn1, itembtn2) \n",
    "    msg = bot.send_message(resp.from_user.id, text='Графичек',reply_markup=keyboard)\n",
    "    bot.send_photo(resp.chat.id,\"https://vk.com/memy_pro_kotow?z=photo-95648824_457263545%2Falbum-95648824_00%2Frev\")\n",
    "    keyboard = types.ReplyKeyboardMarkup(row_width=2)  # наша клавиатура\n",
    "    bot.register_next_step_handler(msg, anal2)\n",
    "\n",
    "def anal2(resp):\n",
    "    if resp.text == 'Ищо':\n",
    "        msg=bot.send_message(resp.from_user.id, text='Вводи тогда еще одну вакансию')\n",
    "        bot.register_next_step_handler(msg, anal)\n",
    "    elif resp.text =='Не ищо':\n",
    "        msg=bot.send_message(resp.from_user.id, text='Пиздуй-бороздуй')\n",
    "        send_keyboard(resp)\n",
    "    else:\n",
    "        msg=bot.send_message(resp.from_user.id, text='Ты бы лучше на кнопку нажал')\n",
    "        return\n",
    "\n",
    "    \n",
    "bot.infinity_polling()"
   ]
  },
  {
   "cell_type": "code",
   "execution_count": null,
   "metadata": {},
   "outputs": [],
   "source": [
    "def selected(resp)\n",
    "     msg=bot.send_message(resp.from_user.id, text='Пиздуй-бороздуй')"
   ]
  },
  {
   "cell_type": "code",
   "execution_count": null,
   "metadata": {},
   "outputs": [],
   "source": []
  },
  {
   "cell_type": "code",
   "execution_count": null,
   "metadata": {},
   "outputs": [],
   "source": []
  },
  {
   "cell_type": "code",
   "execution_count": null,
   "metadata": {},
   "outputs": [],
   "source": []
  },
  {
   "cell_type": "code",
   "execution_count": null,
   "metadata": {},
   "outputs": [],
   "source": []
  },
  {
   "cell_type": "code",
   "execution_count": null,
   "metadata": {},
   "outputs": [],
   "source": []
  },
  {
   "cell_type": "code",
   "execution_count": null,
   "metadata": {},
   "outputs": [],
   "source": []
  },
  {
   "cell_type": "code",
   "execution_count": null,
   "metadata": {},
   "outputs": [],
   "source": []
  },
  {
   "cell_type": "code",
   "execution_count": null,
   "metadata": {},
   "outputs": [],
   "source": []
  }
 ],
 "metadata": {
  "kernelspec": {
   "display_name": "Python 3",
   "language": "python",
   "name": "python3"
  },
  "language_info": {
   "codemirror_mode": {
    "name": "ipython",
    "version": 3
   },
   "file_extension": ".py",
   "mimetype": "text/x-python",
   "name": "python",
   "nbconvert_exporter": "python",
   "pygments_lexer": "ipython3",
   "version": "3.8.5"
  }
 },
 "nbformat": 4,
 "nbformat_minor": 4
}
