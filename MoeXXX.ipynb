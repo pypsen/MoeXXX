{
 "cells": [
  {
   "cell_type": "code",
   "execution_count": null,
   "metadata": {
    "scrolled": true
   },
   "outputs": [],
   "source": [
    "import telebot\n",
    "from telebot import types\n",
    "import time"
   ]
  },
  {
   "cell_type": "markdown",
   "metadata": {},
   "source": [
    "### Тут все шо не бот"
   ]
  },
  {
   "cell_type": "code",
   "execution_count": 63,
   "metadata": {},
   "outputs": [],
   "source": [
    "stocks=['AAPL','GOOG','AMZN','GACHI','TSLA','IUP','GME','YNDX']\n"
   ]
  },
  {
   "cell_type": "markdown",
   "metadata": {},
   "source": [
    "### Тут бот"
   ]
  },
  {
   "cell_type": "code",
   "execution_count": 93,
   "metadata": {},
   "outputs": [],
   "source": [
    "def callback(call):\n",
    "    print(call)\n",
    "        \n"
   ]
  },
  {
   "cell_type": "code",
   "execution_count": 97,
   "metadata": {},
   "outputs": [],
   "source": [
    "bot = telebot.TeleBot(\"1879589421:AAEjb6TKhChdjsLIEDFE_3lKJL3p8IfBHL4\")#тут токен типа удалить бы надо\n",
    "\n",
    "@bot.message_handler(commands=['start'])\n",
    "def send_keyboard(message):\n",
    "    msg = bot.send_message(message.from_user.id, text= f'Привет, {message.from_user.first_name}, ты участвуешь в игре, напиши /menu, чтобы перейти в главное меню!')\n",
    "    #register(message.from_user.first_name,message.from_user.last_name,\n",
    "                           #message.from_user.id,message.from_user.username)\n",
    "        \n",
    "@bot.message_handler(commands=['menu'])\n",
    "def send_keyboard(message, text=\"Добро пожаловать в главное меню\"):\n",
    "    keyboard = types.ReplyKeyboardMarkup(row_width=2)  # наша клавиатура\n",
    "    itembtn1 = types.KeyboardButton('Портфель') # создадим кнопку\n",
    "    itembtn2 = types.KeyboardButton('Биржа')\n",
    "    itembtn3 = types.KeyboardButton('Рекорды')\n",
    "    itembtn4 = types.KeyboardButton(\"Аналитика\")\n",
    "    itembtn5 = types.KeyboardButton('Ничего не надо, адыхай')\n",
    "    keyboard.add(itembtn1, itembtn2) # добавим кнопки 1 и 2 на первый ряд\n",
    "    keyboard.add(itembtn3, itembtn4, itembtn5) # добавим кнопки 3, 4, 5 на второй ряд\n",
    "    # но если кнопок слишком много, они пойдут на след ряд автоматически\n",
    "    # пришлем это все сообщением и запишем выбранный вариант\n",
    "    msg = bot.send_message(message.from_user.id,\n",
    "                     text=text, reply_markup=keyboard)\n"
   ]
  },
  {
   "cell_type": "code",
   "execution_count": 95,
   "metadata": {},
   "outputs": [
    {
     "name": "stderr",
     "output_type": "stream",
     "text": [
      "2021-06-10 20:40:12,348 (__init__.py:495 MainThread) ERROR - TeleBot: \"Infinity polling: polling exited\"\n",
      "2021-06-10 20:40:12,349 (__init__.py:497 MainThread) ERROR - TeleBot: \"Break infinity polling\"\n"
     ]
    }
   ],
   "source": [
    "@bot.message_handler(content_types=['text'])\n",
    "def responser(message, text='а там армяне в нарды играют'):\n",
    "\n",
    "    if message.text=='Портфель':\n",
    "        bot.send_message(message.chat.id, text=f'Залезаете вы в портфель, {text}')\n",
    "        \n",
    "    if message.text=='Биржа':\n",
    "        keyboard = types.ReplyKeyboardMarkup(row_width=2)  # наша клавиатура\n",
    "        itembtn1 = types.KeyboardButton('AAPL') # создадим кнопку\n",
    "        itembtn2 = types.KeyboardButton('GOOG')\n",
    "        itembtn3 = types.KeyboardButton('AMZN')\n",
    "        itembtn4 = types.KeyboardButton(\"GACH\")\n",
    "        itembtn5 = types.KeyboardButton('TSLA')\n",
    "        itembtn6 = types.KeyboardButton('IUP')\n",
    "        itembtn7 = types.KeyboardButton('GME')\n",
    "        itembtn8 = types.KeyboardButton('YNDX')\n",
    "        keyboard.add(itembtn1, itembtn2,itembtn3, itembtn4,itembtn5, itembtn6,itembtn7, itembtn8) # добавим кнопки 1 и 2 на первый ряд\n",
    "        msg = bot.send_message(message.from_user.id, text='MOEX three floors down', reply_markup=keyboard)\n",
    "    \n",
    "    if message.text=='Рекорды':\n",
    "        bot.send_message(message.chat.id, text=f'Открываете книгу рекордов, {text}')\n",
    "    \n",
    "    if message.text=='Аналитика':\n",
    "        bot.send_message(message.chat.id, text=f'Заходите вы в отдел аналитики, {text}')\n",
    "    \n",
    "    if message.text=='Ничего не надо, адыхай':\n",
    "        bot.send_message(message.chat.id, text=f'Ок, ваще без проблем, напиши /menu как захочешь вернуться'\n",
    "                         ,reply_markup=keyboard_hider)\n",
    "\n",
    "    if message.text in stocks:\n",
    "        keyboard = types.ReplyKeyboardMarkup(row_width=2)  # наша клавиатура\n",
    "        itembtn1 = types.KeyboardButton(f'BUY {message.text}') # создадим кнопку\n",
    "        itembtn2 = types.KeyboardButton(f'SELL {message.text}')\n",
    "        itembtn3 = types.KeyboardButton('Биржа')\n",
    "        itembtn4 = types.KeyboardButton('/menu')\n",
    "        keyboard.add(itembtn1, itembtn2) \n",
    "        keyboard.add(itembtn3, itembtn4)\n",
    "        msg = bot.send_message(message.from_user.id,\n",
    "                     text='Вот тут вот будут графички инфа всякая и цена', reply_markup=keyboard)\n",
    "    \n",
    "    if message.text[0:4]=='BUY ':\n",
    "        stock=message.text[4:8]\n",
    "        bot.send_message(message.chat.id, text = f'Введите количество {stock}')\n",
    "        bot.register_next_step_handler(msg, callback)\n",
    "                \n",
    "    if message.text[0:4]=='SELL':\n",
    "        stock=message.text[4:8]\n",
    "        bot.send_message(message.chat.id, text = f'Введите количество {stock}')\n",
    "        bot.register_next_step_handler(msg, callback)\n",
    "bot.infinity_polling() "
   ]
  },
  {
   "cell_type": "code",
   "execution_count": 98,
   "metadata": {},
   "outputs": [],
   "source": []
  },
  {
   "cell_type": "markdown",
   "metadata": {},
   "source": [
    "Не работает бай селл чинить надо пзцd\n"
   ]
  }
 ],
 "metadata": {
  "kernelspec": {
   "display_name": "Python 3",
   "language": "python",
   "name": "python3"
  },
  "language_info": {
   "codemirror_mode": {
    "name": "ipython",
    "version": 3
   },
   "file_extension": ".py",
   "mimetype": "text/x-python",
   "name": "python",
   "nbconvert_exporter": "python",
   "pygments_lexer": "ipython3",
   "version": "3.8.5"
  }
 },
 "nbformat": 4,
 "nbformat_minor": 4
}
