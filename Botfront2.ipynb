{
 "cells": [
  {
   "cell_type": "code",
   "execution_count": 38,
   "metadata": {},
   "outputs": [],
   "source": [
    "import requests\n",
    "from datetime import datetime\n",
    "import telebot\n",
    "from telebot import types\n",
    "import sqlite3\n",
    "import random\n",
    "\n",
    "import numpy as np\n",
    "import pandas as pd\n",
    "import psutil\n",
    "from IPython.display import Image\n",
    "\n",
    "#Data Source\n",
    "import yfinance as yf\n",
    "\n",
    "#Data viz\n",
    "import plotly.graph_objs as go\n",
    "\n",
    "import kaleido\n",
    "import json\n",
    "import matplotlib.pyplot as plt\n",
    "import seaborn as sns\n",
    "import plotly \n",
    "import plotly.graph_objects as go\n",
    "import collections\n",
    "import plotly.express as px\n",
    "import plotly.io as pio\n",
    "\n",
    "pd.set_option('display.max_rows', None)\n",
    "pd.set_option('display.max_columns', None)\n",
    "pd.set_option('display.max_colwidth', None)\n",
    "\n",
    "import statistics"
   ]
  },
  {
   "cell_type": "code",
   "execution_count": 39,
   "metadata": {},
   "outputs": [],
   "source": [
    "import telebot\n",
    "from telebot import types\n",
    "import time\n",
    "coun=0 #fortinder\n",
    "from requests import get\n",
    "starlist=['lll', 'iii', 'sss', 'ttt']"
   ]
  },
  {
   "cell_type": "code",
   "execution_count": 40,
   "metadata": {},
   "outputs": [],
   "source": [
    "pio.kaleido.scope.plotlyjs = r'D:\\PythonModules\\plotly\\package_data\\plotly.min.js'"
   ]
  },
  {
   "cell_type": "markdown",
   "metadata": {},
   "source": [
    "Это главное меню, тут все норм работает"
   ]
  },
  {
   "cell_type": "code",
   "execution_count": 41,
   "metadata": {},
   "outputs": [],
   "source": [
    "bot = telebot.TeleBot(\"1874823468:AAEbRri8tSAL0gIx4DlTXpjHIhWP-0JNmUw\")\n",
    "@bot.message_handler(commands=['start'])\n",
    "def send_keyboard(message, text=\"Привет, чем я могу тебе помочь?\"):\n",
    "    keyboard = types.ReplyKeyboardMarkup(row_width=2)  # наша клавиатура\n",
    "    itembtn1 = types.KeyboardButton('Подбор вакансии') # создадим кнопку\n",
    "    itembtn2 = types.KeyboardButton('Аналитика')\n",
    "    itembtn3 = types.KeyboardButton('Избранное')\n",
    "    itembtn4 = types.KeyboardButton('Мой профиль')\n",
    "    keyboard.add(itembtn1, itembtn2) \n",
    "    keyboard.add(itembtn3, itembtn4) \n",
    "    resp = bot.send_message(message.from_user.id,\n",
    "                     text=text, reply_markup=keyboard)\n",
    "\n",
    "    bot.register_next_step_handler(resp, hub1)\n",
    "    \n"
   ]
  },
  {
   "cell_type": "markdown",
   "metadata": {},
   "source": [
    "Это навигатор по менюшке"
   ]
  },
  {
   "cell_type": "code",
   "execution_count": 42,
   "metadata": {},
   "outputs": [],
   "source": [
    "key_word = ''\n",
    "\n",
    "def hub1(resp): #navigator po menu\n",
    "    global key_word\n",
    "    if resp.text == 'Подбор вакансии':\n",
    "        msg = bot.send_message(resp.from_user.id,\n",
    "                     text='Укажи название вакансии')\n",
    "        bot.register_next_step_handler(msg, tndr0)\n",
    "    elif resp.text == 'Аналитика':\n",
    "        msg = bot.send_message(resp.from_user.id,\n",
    "                     text='Укажи название вакансии чтобы получить подробную аналитику')\n",
    "        bot.register_next_step_handler(msg, anal)\n",
    "    elif resp.text == 'Избранное':\n",
    "        msg = bot.send_message(resp.from_user.id,\n",
    "                     text = 'Вот твое избранное:')\n",
    "        star(resp)\n",
    "    elif resp.text == 'Мой профиль':\n",
    "        bot.send_message(resp.from_user.id,\n",
    "                     text='Вот твой профиль')\n",
    "        profile(resp)\n",
    "    else:\n",
    "        bot.send_message(resp.from_user.id,\n",
    "                     text='Некорректно')\n",
    "        send_keyboard(resp)\n"
   ]
  },
  {
   "cell_type": "markdown",
   "metadata": {},
   "source": [
    "## Тиндер\n",
    "Работающий, вместо джангира просто вакансии прифигачить и в да функцию сохранения в переменную старлист"
   ]
  },
  {
   "cell_type": "code",
   "execution_count": 52,
   "metadata": {},
   "outputs": [],
   "source": [
    "def tndr0(resp):\n",
    "    global key_word\n",
    "    key_word = resp.text\n",
    "    tndr(resp)\n",
    "\n",
    "def tndr(resp): # tinder\n",
    "    global coun\n",
    "    coun+=1\n",
    "    keyboard = types.ReplyKeyboardMarkup(row_width=2)  # наша клавиатура\n",
    "    itembtn1 = types.KeyboardButton('Да') # создадим кнопку\n",
    "    itembtn2 = types.KeyboardButton('Нет')\n",
    "    itembtn3 = types.KeyboardButton('Астанавитес')\n",
    "    keyboard.add(itembtn1, itembtn2, itembtn3) \n",
    "    #начало говнокода\n",
    "    vacancy_info = get_vacancy_main(key_word, coun)\n",
    "    try:\n",
    "        vacancy_info = f\"{vacancy_info[0]}\\n{vacancy_info[1]}\\n{vacancy_info[2]}\\n{vacancy_info[3]}\"\n",
    "        msg=bot.send_message(resp.from_user.id,\n",
    "                        text=vacancy_info, reply_markup=keyboard)\n",
    "    except:\n",
    "        msg=bot.send_message(resp.from_user.id, text = 'По этому запросу вакансий нет или они закончились. Выйдите из этого раздела', reply_markup=keyboard)\n",
    "        #bot.register_next_step_handler(msg, send_keyboard)\n",
    "    #конец говнокода\n",
    "    bot.register_next_step_handler(msg, tndr2)\n",
    "\n",
    "def tndr2(resp):\n",
    "    global coun\n",
    "    if resp.text == 'Да':\n",
    "        bot.send_message(resp.from_user.id, text='saved')\n",
    "        tndr(resp)\n",
    "    elif resp.text == 'Астанавитес':\n",
    "        message = bot.send_message(resp.from_user.id,text='Пиздуй-бороздуй')\n",
    "        coun = 0\n",
    "        send_keyboard(resp)\n",
    "    else:\n",
    "        bot.send_message(resp.from_user.id, text='Приму это за нет и сохранять не буду')\n",
    "        tndr(resp)\n",
    "\n"
   ]
  },
  {
   "cell_type": "markdown",
   "metadata": {},
   "source": [
    "## Для аналитики\n",
    " вместо пикчи график, вместо текста чет полезное, прост подставить"
   ]
  },
  {
   "cell_type": "code",
   "execution_count": 44,
   "metadata": {
    "scrolled": true
   },
   "outputs": [],
   "source": [
    "def anal(resp):\n",
    "    keyboard = types.ReplyKeyboardMarkup(row_width=2) \n",
    "    itembtn1 = types.KeyboardButton('Ищо') # создадим кнопку\n",
    "    itembtn2 = types.KeyboardButton('Не ищо')\n",
    "    keyboard.add(itembtn1, itembtn2) \n",
    "    msg = bot.send_message(resp.from_user.id, text='Здесь появится графичек. Возможно придется подождать',reply_markup=keyboard)\n",
    "    #начало говнокода\n",
    "    data = all_salaries(resp.text)[0]\n",
    "    try: \n",
    "        result_photo = histogram(data).to_image(format=\"png\", engine=\"kaleido\")\n",
    "        bot.send_photo(resp.chat.id, result_photo)\n",
    "        bot.send_message(resp.chat.id, f'максимум: {max(data)}')\n",
    "        bot.send_message(resp.chat.id, f'минимум: {min(data)}')\n",
    "        bot.send_message(resp.chat.id, f'средняя зарплата: {int(sum(data)/len(data))}')\n",
    "        bot.send_message(resp.chat.id, f'медианная зарплата: {statistics.median(data)}')\n",
    "    except:\n",
    "        bot.send_message(resp.chat.id, 'введите другой запрос')\n",
    "    #конец говнокода\n",
    "    keyboard = types.ReplyKeyboardMarkup(row_width=2)  # наша клавиатура\n",
    "    bot.register_next_step_handler(msg, anal2)\n",
    "\n",
    "def anal2(resp):\n",
    "    if resp.text == 'Ищо':\n",
    "        msg=bot.send_message(resp.from_user.id, text='Вводи тогда еще одну вакансию')\n",
    "        bot.register_next_step_handler(msg, anal)\n",
    "    elif resp.text =='Не ищо':\n",
    "        msg=bot.send_message(resp.from_user.id, text='Пиздуй-бороздуй')\n",
    "        send_keyboard(resp)\n",
    "    else:\n",
    "        msg=bot.send_message(resp.from_user.id, text='Ты бы лучше на кнопку нажал')\n",
    "        bot.register_next_step_handler(msg, anal2)\n",
    "\n",
    "    \n"
   ]
  },
  {
   "cell_type": "markdown",
   "metadata": {},
   "source": [
    "## Избранное\n",
    "старлист - список избранного(настоящий), просто надо его генерить из тиндера. Сюда даже подставлять ниче не надо"
   ]
  },
  {
   "cell_type": "code",
   "execution_count": 45,
   "metadata": {},
   "outputs": [],
   "source": [
    "def star(resp):\n",
    "    global starlist\n",
    "    if starlist!=[]:\n",
    "        for i in range(len(starlist)):\n",
    "            msg=bot.send_message(resp.from_user.id, text=str(i+1)+' '+starlist[i])\n",
    "        keyboard = types.ReplyKeyboardMarkup(row_width=2) \n",
    "        itembtn1 = types.KeyboardButton('Удалить 1') # создадим кнопку\n",
    "        itembtn2 = types.KeyboardButton('Удалить 2')\n",
    "        itembtn3 = types.KeyboardButton('Удалить все') # создадим кнопку\n",
    "        itembtn4 = types.KeyboardButton('Назад')\n",
    "        keyboard.add(itembtn1, itembtn2) \n",
    "        keyboard.add(itembtn3, itembtn4) \n",
    "        msg=bot.send_message(resp.from_user.id, text='Можешь нажать на кнопку или написать Удалить N чтобы удалить N-ное избранное', \n",
    "                             reply_markup=keyboard)\n",
    "        bot.register_next_step_handler(msg, star2)\n",
    "    else:\n",
    "        bot.send_message(resp.from_user.id, text='Нету такого')\n",
    "        send_keyboard(resp)\n",
    "    \n",
    "\n",
    "    \n",
    "    \n",
    "def star2(resp):\n",
    "    global starlist\n",
    "    if resp.text.split(' ')[0] =='Удалить':\n",
    "        if resp.text.split(' ')[1].isdigit():\n",
    "            n=int(resp.text.split(' ')[1])\n",
    "            try:\n",
    "                starlist.pop(n-1)\n",
    "                msg = bot.send_message(resp.from_user.id, \n",
    "                                       text='Удалил избранное под выбранным номером. Нажми на кнопку(любую) еще раз')\n",
    "                bot.register_next_step_handler(msg, star2)\n",
    "            except:\n",
    "                msg = bot.send_message(resp.from_user.id, \n",
    "                                       text='Число кривое ацтань, нажми на кнопку(любую) еще раз')\n",
    "                bot.register_next_step_handler(msg, star2)\n",
    "        if resp.text.split(' ')[1] == 'все':\n",
    "            starlist = []\n",
    "            msg = bot.send_message(resp.from_user.id, text='Удалил все')\n",
    "            send_keyboard(resp)\n",
    "    if resp.text=='Назад':\n",
    "        send_keyboard(resp)\n"
   ]
  },
  {
   "cell_type": "markdown",
   "metadata": {},
   "source": [
    "## Заполнение профиля\n",
    "Тут внутрь функций город зп станция подставить работу с полученным респонсом(запись в базу), вместо первого сообщения реальный профиль, все остальное норм"
   ]
  },
  {
   "cell_type": "code",
   "execution_count": 46,
   "metadata": {},
   "outputs": [],
   "source": [
    "def profile(resp):\n",
    "    bot.send_message(resp.from_user.id, text='Вотут все данные лежать должны')\n",
    "    keyboard = types.ReplyKeyboardMarkup(row_width=2) \n",
    "    itembtn1 = types.KeyboardButton('Город') # создадим кнопку\n",
    "    itembtn2 = types.KeyboardButton('Станция метро')\n",
    "    itembtn3 = types.KeyboardButton('Минимальная зп') # создадим кнопку\n",
    "    itembtn4 = types.KeyboardButton('Назад')\n",
    "    keyboard.add(itembtn1, itembtn2) \n",
    "    keyboard.add(itembtn3, itembtn4) \n",
    "    msg = bot.send_message(resp.from_user.id, text='Выбери раздел в который хочешь внести изменения', \n",
    "                             reply_markup=keyboard)\n",
    "    bot.register_next_step_handler(msg, profile0)\n",
    "def profile0(resp):\n",
    "    if resp.text == 'Город':\n",
    "        msg = bot.send_message(resp.from_user.id, text='Введи изменения')\n",
    "        bot.register_next_step_handler(msg, city)\n",
    "    elif resp.text == 'Станция метро':\n",
    "        msg = bot.send_message(resp.from_user.id, text='Введи изменения')\n",
    "        bot.register_next_step_handler(msg, metro)\n",
    "    elif resp.text == 'Минимальная зп':\n",
    "        msg = bot.send_message(resp.from_user.id, text='Введи изменения')\n",
    "        bot.register_next_step_handler(msg, payment)\n",
    "    elif resp.text == 'Назад':\n",
    "        send_keyboard(resp)\n",
    "    else:\n",
    "        msg=bot.send_message(resp.from_user.id, text='Ты бы лучше на кнопку нажал')\n",
    "        bot.register_next_step_handler(msg, profile0)\n",
    "def city(resp):\n",
    "    bot.send_message(resp.from_user.id, text='Изменения приняты, вот ваш обновленный профиль:')\n",
    "    profile(resp)\n",
    "def metro(resp):\n",
    "    bot.send_message(resp.from_user.id, text='Изменения приняты, вот ваш обновленный профиль:')\n",
    "    profile(resp)\n",
    "def payment(resp):\n",
    "    bot.send_message(resp.from_user.id, text='Изменения приняты, вот ваш обновленный профиль:')\n",
    "    profile(resp)\n",
    "\n",
    "\n"
   ]
  },
  {
   "cell_type": "markdown",
   "metadata": {},
   "source": [
    "### Запуск бота"
   ]
  },
  {
   "cell_type": "code",
   "execution_count": 51,
   "metadata": {},
   "outputs": [],
   "source": [
    "bot.polling(none_stop=True)"
   ]
  },
  {
   "cell_type": "markdown",
   "metadata": {},
   "source": [
    "# НЕ БОТ (получение данных)"
   ]
  },
  {
   "cell_type": "code",
   "execution_count": 47,
   "metadata": {},
   "outputs": [],
   "source": [
    "#вспомогательная функция для форматирования инфы о зарплате\n",
    "\n",
    "def get_salary(sal):\n",
    "    if sal['currency'] == None:\n",
    "        sal['currency'] = ''\n",
    "    if sal['from'] == None and sal['to'] == None:\n",
    "        t = 'зарплата не указана'\n",
    "        return t\n",
    "    if sal['from'] == None:\n",
    "        t = f'зарплата до {sal[\"to\"]} {sal[\"currency\"]}'\n",
    "        return t\n",
    "    if sal['to'] == None:\n",
    "        t = f'зарплата от {sal[\"from\"]} {sal[\"currency\"]}'\n",
    "        return t\n",
    "    else:\n",
    "        t = f'зарплата от {sal[\"from\"]} {sal[\"currency\"]} до {sal[\"to\"]} {sal[\"currency\"]}'\n",
    "        return t"
   ]
  },
  {
   "cell_type": "code",
   "execution_count": 48,
   "metadata": {},
   "outputs": [],
   "source": [
    "# основная функция получения инфы о вакансиях. Принимает запрос, по которому искать вакансию (любой текст)\n",
    "# и номер вакансии в выдаче (ноль из ста по умолчанию). Если номер указан больше, чем есть в выдаче, то берет последнюю\n",
    "# Возвращает инфу о названии вакансии, зарплате, регионе (но не городе подробно. Это можно будет прикрутить, если нужно)\n",
    "# а также ссылку на вакансию с сайта хэ хэ\n",
    "\n",
    "def get_vacancy_main(search, number = 0):\n",
    "    data = requests.get(f'https://api.hh.ru/vacancies?text={search}&per_page=100', \n",
    "                        headers={\"User-Agent\":\"HH-User-Agent\"}).json()\n",
    "    \n",
    "    if len(data['items']) == 0:\n",
    "        return None\n",
    "    if number > len(data['items']):\n",
    "        return None\n",
    "    \n",
    "    #получаем нужную вакансию из списка\n",
    "    data = data['items'][min(number, len(data['items']) - 1)]\n",
    "    \n",
    "    name = data['name']\n",
    "    \n",
    "    try:\n",
    "        salary = get_salary(data['salary'])\n",
    "    except:\n",
    "        salary = 'зарплата не указана'\n",
    "    \n",
    "    try:\n",
    "        area = data['area']['name']\n",
    "    except:\n",
    "        area = 'регион не указан'\n",
    "    \n",
    "    if data['alternate_url'] != None:\n",
    "        url = data['alternate_url']\n",
    "    else:\n",
    "        url = 'ссылка на вакансию отсутствует'\n",
    "    \n",
    "    \n",
    "    \n",
    "    return (name, salary, area, url)"
   ]
  },
  {
   "cell_type": "code",
   "execution_count": 49,
   "metadata": {},
   "outputs": [],
   "source": [
    "def all_salaries(search):\n",
    "    \n",
    "    #заводим пустой список для всех зарплат и делаем тестовый запрос, чтобы узнать, сколько страниц в выдаче\n",
    "    salaries = []\n",
    "    test = requests.get(f'https://api.hh.ru/vacancies?text={search}&per_page=100',\n",
    "                        headers={\"User-Agent\":\"HH-User-Agent\"}).json()\n",
    "    pages = test['pages']\n",
    "    \n",
    "    #проходимся по всем страницам в выдаче и склеиваем инфу о зарплатах. Парсится максимум 10 страниц, так как иначе очень долго\n",
    "    for i in range(min(pages, 10)):\n",
    "        data = requests.get(f'https://api.hh.ru/vacancies?text={search}&per_page=100&page={i}', \n",
    "                            headers={\"User-Agent\":\"HH-User-Agent\"}).json()\n",
    "        for vac in data['items']:\n",
    "            salaries.append(vac['salary'])\n",
    "            \n",
    "    #достаем из списка всех зарплат верхние и нижние границы    \n",
    "    salaries_from = []\n",
    "    salaries_to = []\n",
    "\n",
    "    for salary in salaries:\n",
    "        if salary != None:\n",
    "            if salary['currency'] in ['RUR', 'RUB']:\n",
    "                if salary['from'] != None:\n",
    "                    salaries_from.append(salary['from'])\n",
    "                if salary['to'] != None:\n",
    "                    salaries_to.append(salary['to'])   \n",
    "    \n",
    "    return (salaries_from, salaries_to)"
   ]
  },
  {
   "cell_type": "code",
   "execution_count": 50,
   "metadata": {},
   "outputs": [],
   "source": [
    "def histogram(data):\n",
    "    fig = px.histogram(data, nbins=30)\n",
    "    \n",
    "    fig.update_layout(\n",
    "        title_text='распределение зарплат', # title of plot\n",
    "        xaxis_title_text='зарплата', # xaxis label\n",
    "        yaxis_title_text='количество вакансий', # yaxis label\n",
    "        bargap=0.01, # gap between bars of adjacent location coordinates\n",
    "        bargroupgap=0.01 # gap between bars of the same location coordinates\n",
    "    )\n",
    "\n",
    "    fig.update_layout(autosize=True,\n",
    "                          width=800,\n",
    "                          height=500,)\n",
    "    \n",
    "    return fig"
   ]
  },
  {
   "cell_type": "code",
   "execution_count": null,
   "metadata": {},
   "outputs": [],
   "source": []
  },
  {
   "cell_type": "code",
   "execution_count": null,
   "metadata": {},
   "outputs": [],
   "source": []
  },
  {
   "cell_type": "code",
   "execution_count": null,
   "metadata": {},
   "outputs": [],
   "source": []
  },
  {
   "cell_type": "code",
   "execution_count": null,
   "metadata": {},
   "outputs": [],
   "source": []
  }
 ],
 "metadata": {
  "kernelspec": {
   "display_name": "Python 3",
   "language": "python",
   "name": "python3"
  },
  "language_info": {
   "codemirror_mode": {
    "name": "ipython",
    "version": 3
   },
   "file_extension": ".py",
   "mimetype": "text/x-python",
   "name": "python",
   "nbconvert_exporter": "python",
   "pygments_lexer": "ipython3",
   "version": "3.9.0"
  }
 },
 "nbformat": 4,
 "nbformat_minor": 4
}
