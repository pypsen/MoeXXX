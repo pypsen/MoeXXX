{
 "cells": [
  {
   "cell_type": "code",
   "execution_count": 1,
   "id": "87abc0a6",
   "metadata": {},
   "outputs": [],
   "source": [
    "import requests\n",
    "from datetime import datetime\n",
    "import telebot\n",
    "from telebot import types\n",
    "import sqlite3\n",
    "import random\n",
    "\n",
    "import numpy as np\n",
    "import pandas as pd\n",
    "import psutil\n",
    "from IPython.display import Image\n",
    "\n",
    "#Data Source\n",
    "import yfinance as yf\n",
    "\n",
    "#Data viz\n",
    "import plotly.graph_objs as go\n",
    "\n",
    "import kaleido\n",
    "import json\n",
    "import matplotlib.pyplot as plt\n",
    "import seaborn as sns\n",
    "import plotly \n",
    "import plotly.graph_objects as go\n",
    "import collections\n",
    "\n",
    "pd.set_option('display.max_rows', None)\n",
    "pd.set_option('display.max_columns', None)\n",
    "pd.set_option('display.max_colwidth', None)"
   ]
  },
  {
   "cell_type": "markdown",
   "id": "3a9cfc14",
   "metadata": {},
   "source": [
    "## Черновик"
   ]
  },
  {
   "cell_type": "code",
   "execution_count": null,
   "id": "2b73e270",
   "metadata": {},
   "outputs": [],
   "source": [
    "#https://api.hh.ru/\n",
    "#GET/vacancies\n",
    "#'https://api.hh.ru/vacancies?text=java'\n",
    "#HH-User-Agent\n",
    "#"
   ]
  },
  {
   "cell_type": "markdown",
   "id": "ba407a31",
   "metadata": {},
   "source": [
    "Поиск вакансий по запросу. Описание метода тут https://github.com/hhru/api/blob/master/docs/vacancies.md"
   ]
  },
  {
   "cell_type": "code",
   "execution_count": 168,
   "id": "d7c005bb",
   "metadata": {},
   "outputs": [],
   "source": [
    "# r=requests.get('https://api.hh.ru/vacancies?text=python&per_page=100', headers={\"User-Agent\":\"HH-User-Agent\"})"
   ]
  },
  {
   "cell_type": "markdown",
   "id": "34e9bf42",
   "metadata": {},
   "source": [
    "поиск по вакансиям, похожим на вакансию"
   ]
  },
  {
   "cell_type": "code",
   "execution_count": 166,
   "id": "7554bc72",
   "metadata": {},
   "outputs": [],
   "source": []
  },
  {
   "cell_type": "code",
   "execution_count": 169,
   "id": "0b841380",
   "metadata": {},
   "outputs": [],
   "source": [
    "#GET/vacancies/{vacancy_id}/similar_vacancies"
   ]
  },
  {
   "cell_type": "markdown",
   "id": "7e497d32",
   "metadata": {},
   "source": [
    "получение инфы о вакансии по id\n"
   ]
  },
  {
   "cell_type": "code",
   "execution_count": 170,
   "id": "9993c781",
   "metadata": {},
   "outputs": [],
   "source": [
    "#GET/vacancies/{vacancy_id}"
   ]
  },
  {
   "cell_type": "markdown",
   "id": "57b0f87e",
   "metadata": {},
   "source": [
    "поиск по компаниям. Описание тут https://github.com/hhru/api/blob/master/docs/employers.md#search"
   ]
  },
  {
   "cell_type": "code",
   "execution_count": 171,
   "id": "ec688402",
   "metadata": {},
   "outputs": [],
   "source": [
    "#GET/employers   можно указать критерии поиска компаний\n",
    "\n",
    "#GET/employers/{employer_id}     возвращает данные о компании со ссылкой на выдачу вакансий этой компании"
   ]
  },
  {
   "cell_type": "markdown",
   "id": "18bbdc2c",
   "metadata": {},
   "source": [
    "## Приступаем к получению данных"
   ]
  },
  {
   "cell_type": "markdown",
   "id": "078ac5a5",
   "metadata": {},
   "source": [
    "Сначала посмотрим, как вообще выглядит джейсонина"
   ]
  },
  {
   "cell_type": "code",
   "execution_count": 173,
   "id": "bae003df",
   "metadata": {},
   "outputs": [],
   "source": [
    "#получение списка зарплат\n",
    "\"\"\"a = []\n",
    "for i in r['items']:\n",
    "    try:\n",
    "        a.append((i['salary']['from'], i['salary']['to'], i['salary']['currency']))\n",
    "    except:\n",
    "        pass\"\"\";"
   ]
  },
  {
   "cell_type": "code",
   "execution_count": 192,
   "id": "8af786d5",
   "metadata": {},
   "outputs": [],
   "source": [
    "search = 'python'\n",
    "r = requests.get(f'https://api.hh.ru/vacancies?text={search}&per_page=100', headers={\"User-Agent\":\"HH-User-Agent\"}).json()"
   ]
  },
  {
   "cell_type": "code",
   "execution_count": 213,
   "id": "4c8b476c",
   "metadata": {},
   "outputs": [
    {
     "data": {
      "text/plain": [
       "{'id': '30005963',\n",
       " 'premium': False,\n",
       " 'name': 'Python developer',\n",
       " 'department': None,\n",
       " 'has_test': False,\n",
       " 'response_letter_required': False,\n",
       " 'area': {'id': '1', 'name': 'Москва', 'url': 'https://api.hh.ru/areas/1'},\n",
       " 'salary': {'from': 4000, 'to': None, 'currency': 'USD', 'gross': False},\n",
       " 'type': {'id': 'open', 'name': 'Открытая'},\n",
       " 'address': {'city': None,\n",
       "  'street': None,\n",
       "  'building': None,\n",
       "  'description': None,\n",
       "  'lat': None,\n",
       "  'lng': None,\n",
       "  'raw': None,\n",
       "  'metro': {'station_name': 'Бауманская',\n",
       "   'line_name': 'Арбатско-Покровская',\n",
       "   'station_id': '3.17',\n",
       "   'line_id': '3',\n",
       "   'lat': 55.772405,\n",
       "   'lng': 37.67904},\n",
       "  'metro_stations': [{'station_name': 'Бауманская',\n",
       "    'line_name': 'Арбатско-Покровская',\n",
       "    'station_id': '3.17',\n",
       "    'line_id': '3',\n",
       "    'lat': 55.772405,\n",
       "    'lng': 37.67904},\n",
       "   {'station_name': 'Комсомольская',\n",
       "    'line_name': 'Кольцевая',\n",
       "    'station_id': '5.55',\n",
       "    'line_id': '5',\n",
       "    'lat': 55.775672,\n",
       "    'lng': 37.654772}],\n",
       "  'id': '1602971'},\n",
       " 'response_url': None,\n",
       " 'sort_point_distance': None,\n",
       " 'published_at': '2021-06-15T17:00:24+0300',\n",
       " 'created_at': '2021-06-15T17:00:24+0300',\n",
       " 'archived': False,\n",
       " 'apply_alternate_url': 'https://hh.ru/applicant/vacancy_response?vacancyId=30005963',\n",
       " 'insider_interview': None,\n",
       " 'url': 'https://api.hh.ru/vacancies/30005963?host=hh.ru',\n",
       " 'alternate_url': 'https://hh.ru/vacancy/30005963',\n",
       " 'relations': [],\n",
       " 'employer': {'id': '899854',\n",
       "  'name': 'NetworkOptix',\n",
       "  'url': 'https://api.hh.ru/employers/899854',\n",
       "  'alternate_url': 'https://hh.ru/employer/899854',\n",
       "  'logo_urls': {'original': 'https://hhcdn.ru/employer-logo-original/765059.png',\n",
       "   '90': 'https://hhcdn.ru/employer-logo/3501193.png',\n",
       "   '240': 'https://hhcdn.ru/employer-logo/3501194.png'},\n",
       "  'vacancies_url': 'https://api.hh.ru/vacancies?employer_id=899854',\n",
       "  'trusted': True},\n",
       " 'snippet': {'requirement': 'Хорошего знания <highlighttext>Python</highlighttext>. От 3 лет опыта коммерческой разработки. Общих знаний computer science.',\n",
       "  'responsibility': 'Разрабатываем на <highlighttext>Python</highlighttext> 3.8. Используем pytest в качестве тестового фреймворка. Храним код в Git/Gerrit. Проводим ревью в Gerrit...'},\n",
       " 'contacts': None,\n",
       " 'schedule': {'id': 'fullDay', 'name': 'Полный день'},\n",
       " 'working_days': [],\n",
       " 'working_time_intervals': [],\n",
       " 'working_time_modes': [],\n",
       " 'accept_temporary': False}"
      ]
     },
     "execution_count": 213,
     "metadata": {},
     "output_type": "execute_result"
    }
   ],
   "source": [
    "vac = r['items'][0]\n",
    "vac"
   ]
  },
  {
   "cell_type": "code",
   "execution_count": 214,
   "id": "ec836c99",
   "metadata": {},
   "outputs": [
    {
     "data": {
      "text/plain": [
       "'Python developer'"
      ]
     },
     "execution_count": 214,
     "metadata": {},
     "output_type": "execute_result"
    }
   ],
   "source": [
    "vac['name']"
   ]
  },
  {
   "cell_type": "code",
   "execution_count": 259,
   "id": "7cb8359e",
   "metadata": {},
   "outputs": [
    {
     "data": {
      "text/plain": [
       "{'from': 4000, 'to': None, 'currency': 'USD', 'gross': False}"
      ]
     },
     "execution_count": 259,
     "metadata": {},
     "output_type": "execute_result"
    }
   ],
   "source": [
    "vac['salary']"
   ]
  },
  {
   "cell_type": "code",
   "execution_count": 216,
   "id": "b7b563e8",
   "metadata": {},
   "outputs": [
    {
     "data": {
      "text/plain": [
       "{'id': '1', 'name': 'Москва', 'url': 'https://api.hh.ru/areas/1'}"
      ]
     },
     "execution_count": 216,
     "metadata": {},
     "output_type": "execute_result"
    }
   ],
   "source": [
    "vac['area']"
   ]
  },
  {
   "cell_type": "code",
   "execution_count": 217,
   "id": "2397a486",
   "metadata": {},
   "outputs": [
    {
     "data": {
      "text/plain": [
       "{'city': None,\n",
       " 'street': None,\n",
       " 'building': None,\n",
       " 'description': None,\n",
       " 'lat': None,\n",
       " 'lng': None,\n",
       " 'raw': None,\n",
       " 'metro': {'station_name': 'Бауманская',\n",
       "  'line_name': 'Арбатско-Покровская',\n",
       "  'station_id': '3.17',\n",
       "  'line_id': '3',\n",
       "  'lat': 55.772405,\n",
       "  'lng': 37.67904},\n",
       " 'metro_stations': [{'station_name': 'Бауманская',\n",
       "   'line_name': 'Арбатско-Покровская',\n",
       "   'station_id': '3.17',\n",
       "   'line_id': '3',\n",
       "   'lat': 55.772405,\n",
       "   'lng': 37.67904},\n",
       "  {'station_name': 'Комсомольская',\n",
       "   'line_name': 'Кольцевая',\n",
       "   'station_id': '5.55',\n",
       "   'line_id': '5',\n",
       "   'lat': 55.775672,\n",
       "   'lng': 37.654772}],\n",
       " 'id': '1602971'}"
      ]
     },
     "execution_count": 217,
     "metadata": {},
     "output_type": "execute_result"
    }
   ],
   "source": [
    "vac['address']"
   ]
  },
  {
   "cell_type": "code",
   "execution_count": 218,
   "id": "c5d023af",
   "metadata": {},
   "outputs": [
    {
     "data": {
      "text/plain": [
       "'https://hh.ru/vacancy/30005963'"
      ]
     },
     "execution_count": 218,
     "metadata": {},
     "output_type": "execute_result"
    }
   ],
   "source": [
    "vac['alternate_url'] #ссылка на вакансию на сайте"
   ]
  },
  {
   "cell_type": "code",
   "execution_count": 219,
   "id": "f864e7d6",
   "metadata": {},
   "outputs": [
    {
     "data": {
      "text/plain": [
       "{'id': '899854',\n",
       " 'name': 'NetworkOptix',\n",
       " 'url': 'https://api.hh.ru/employers/899854',\n",
       " 'alternate_url': 'https://hh.ru/employer/899854',\n",
       " 'logo_urls': {'original': 'https://hhcdn.ru/employer-logo-original/765059.png',\n",
       "  '90': 'https://hhcdn.ru/employer-logo/3501193.png',\n",
       "  '240': 'https://hhcdn.ru/employer-logo/3501194.png'},\n",
       " 'vacancies_url': 'https://api.hh.ru/vacancies?employer_id=899854',\n",
       " 'trusted': True}"
      ]
     },
     "execution_count": 219,
     "metadata": {},
     "output_type": "execute_result"
    }
   ],
   "source": [
    "vac['employer']"
   ]
  },
  {
   "cell_type": "code",
   "execution_count": 230,
   "id": "39f75842",
   "metadata": {},
   "outputs": [
    {
     "data": {
      "text/plain": [
       "'https://api.hh.ru/vacancies/30005963?host=hh.ru'"
      ]
     },
     "execution_count": 230,
     "metadata": {},
     "output_type": "execute_result"
    }
   ],
   "source": [
    "vac['url'] #ссылка на получение подробной инфы о вакансии через апи"
   ]
  },
  {
   "cell_type": "markdown",
   "id": "8dbf0967",
   "metadata": {},
   "source": [
    "### Пишем функции для получения инфы"
   ]
  },
  {
   "cell_type": "code",
   "execution_count": 313,
   "id": "6f6032f2",
   "metadata": {},
   "outputs": [],
   "source": [
    "#вспомогательная функция для форматирования инфы о зарплате\n",
    "\n",
    "def get_salary(sal):\n",
    "    if sal['currency'] == None:\n",
    "        sal['currency'] = ''\n",
    "    if sal['from'] == None and sal['to'] == None:\n",
    "        t = 'зарплата не указана'\n",
    "        return t\n",
    "    if sal['from'] == None:\n",
    "        t = f'зарплата до {sal[\"to\"]} {sal[\"currency\"]}'\n",
    "        return t\n",
    "    if sal['to'] == None:\n",
    "        t = f'зарплата от {sal[\"from\"]} {sal[\"currency\"]}'\n",
    "        return t\n",
    "    else:\n",
    "        t = f'зарплата от {sal[\"from\"]} {sal[\"currency\"]} до {sal[\"to\"]} {sal[\"currency\"]}'\n",
    "        return t"
   ]
  },
  {
   "cell_type": "code",
   "execution_count": 327,
   "id": "f8f6770c",
   "metadata": {},
   "outputs": [],
   "source": [
    "# основная функция получения инфы о вакансиях. Принимает запрос, по которому искать вакансию (любой текст)\n",
    "# и номер вакансии в выдаче (ноль из ста по умолчанию). Если номер указан больше, чем есть в выдаче, то берет последнюю\n",
    "# Возвращает инфу о названии вакансии, зарплате, регионе (но не городе подробно. Это можно будет прикрутить, если нужно)\n",
    "# а также ссылку на вакансию с сайта хэ хэ\n",
    "\n",
    "def get_vacancy_main(search, number = 0):\n",
    "    data = requests.get(f'https://api.hh.ru/vacancies?text={search}&per_page=100', \n",
    "                        headers={\"User-Agent\":\"HH-User-Agent\"}).json()\n",
    "    \n",
    "    if len(data['items']) == 0:\n",
    "        return 'вакансий по этому запросу не найдено'\n",
    "    \n",
    "    #получаем нужную вакансию из списка\n",
    "    data = data['items'][min(number, 99)]\n",
    "    \n",
    "    name = data['name']\n",
    "    \n",
    "    try:\n",
    "        salary = get_salary(data['salary'])\n",
    "    except:\n",
    "        salary = 'зарплата не указана'\n",
    "    \n",
    "    try:\n",
    "        area = vac['area']['name']\n",
    "    except:\n",
    "        area = 'регион не указан'\n",
    "    \n",
    "    if vac['alternate_url'] != None:\n",
    "        url = vac['alternate_url']\n",
    "    else:\n",
    "        url = 'ссылка на вакансию отсутствует'\n",
    "    \n",
    "    \n",
    "    \n",
    "    return (name, salary, area, url)"
   ]
  },
  {
   "cell_type": "code",
   "execution_count": 330,
   "id": "8b9111c9",
   "metadata": {},
   "outputs": [
    {
     "data": {
      "text/plain": [
       "('Разработчик full-stack javascript (remote)',\n",
       " 'зарплата от 480000 RUR до 510000 RUR',\n",
       " 'Москва',\n",
       " 'https://hh.ru/vacancy/30005963')"
      ]
     },
     "execution_count": 330,
     "metadata": {},
     "output_type": "execute_result"
    }
   ],
   "source": [
    "get_vacancy_main('java script')"
   ]
  },
  {
   "cell_type": "code",
   "execution_count": null,
   "id": "e68fc8de",
   "metadata": {},
   "outputs": [],
   "source": []
  },
  {
   "cell_type": "code",
   "execution_count": null,
   "id": "20a1416e",
   "metadata": {},
   "outputs": [],
   "source": []
  },
  {
   "cell_type": "code",
   "execution_count": null,
   "id": "5046dec6",
   "metadata": {},
   "outputs": [],
   "source": []
  }
 ],
 "metadata": {
  "kernelspec": {
   "display_name": "Python 3",
   "language": "python",
   "name": "python3"
  },
  "language_info": {
   "codemirror_mode": {
    "name": "ipython",
    "version": 3
   },
   "file_extension": ".py",
   "mimetype": "text/x-python",
   "name": "python",
   "nbconvert_exporter": "python",
   "pygments_lexer": "ipython3",
   "version": "3.9.0"
  }
 },
 "nbformat": 4,
 "nbformat_minor": 5
}
