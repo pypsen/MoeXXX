{
 "cells": [
  {
   "cell_type": "markdown",
   "id": "54ec1a19",
   "metadata": {},
   "source": [
    "### Импорты"
   ]
  },
  {
   "cell_type": "code",
   "execution_count": 73,
   "id": "6457f573",
   "metadata": {},
   "outputs": [],
   "source": [
    "import requests\n",
    "from datetime import datetime\n",
    "import telebot\n",
    "from telebot import types\n",
    "import sqlite3\n",
    "import random\n",
    "import io\n",
    "import dataframe_image as dfi\n",
    "from PIL import Image\n",
    "\n",
    "import numpy as np\n",
    "import pandas as pd\n",
    "import psutil\n",
    "from IPython.display import Image\n",
    "\n",
    "#Data Source\n",
    "import yfinance as yf\n",
    "\n",
    "#Data viz\n",
    "import plotly.graph_objs as go\n",
    "\n",
    "import kaleido\n",
    "import json\n",
    "import matplotlib.pyplot as plt\n",
    "import seaborn as sns\n",
    "import plotly \n",
    "import plotly.graph_objects as go\n",
    "import collections\n",
    "from fake_useragent import UserAgent\n",
    "from bs4 import BeautifulSoup\n",
    "\n",
    "pd.set_option('display.max_rows', None)\n",
    "pd.set_option('display.max_columns', None)\n",
    "pd.set_option('display.max_colwidth', None)"
   ]
  },
  {
   "cell_type": "markdown",
   "id": "dcbee626",
   "metadata": {},
   "source": [
    "## черновик"
   ]
  },
  {
   "cell_type": "code",
   "execution_count": 74,
   "id": "078c951e",
   "metadata": {},
   "outputs": [],
   "source": [
    "# fig.to_image(format=\"png\", engine=\"kaleido\")"
   ]
  },
  {
   "cell_type": "code",
   "execution_count": 75,
   "id": "e61bfcc8",
   "metadata": {},
   "outputs": [],
   "source": [
    "# fig = candles(get_quotes('TSLA', '10d', '15m'))"
   ]
  },
  {
   "cell_type": "code",
   "execution_count": 76,
   "id": "12f44b1e",
   "metadata": {},
   "outputs": [],
   "source": [
    "#Valid periods: 1d,5d,1mo,3mo,6mo,1y,2y,5y,10y,ytd,max\n",
    "            \n",
    "#Valid intervals: 1m,2m,5m,15m,30m,60m,90m,1h,1d,5d,1wk,1mo,3mo           \n",
    "        "
   ]
  },
  {
   "cell_type": "code",
   "execution_count": 77,
   "id": "17d9c3ec",
   "metadata": {},
   "outputs": [],
   "source": [
    "\"\"\"#получение одной новости из финхаба\n",
    "def get_news(ticker):\n",
    "    global hub_token\n",
    "    today = str(datetime.date(datetime.now()))\n",
    "    r = requests.get(f'https://finnhub.io/api/v1/company-news?symbol={ticker}&from={today}&to={today}&token={hub_token}')\n",
    "    headline = r.json()[0]['headline']\n",
    "    url = r.json()[0]['url']\n",
    "    return (headline, url)\"\"\";"
   ]
  },
  {
   "cell_type": "code",
   "execution_count": 78,
   "id": "95bbb59e",
   "metadata": {},
   "outputs": [],
   "source": [
    "\"\"\"#получение списка всех новостей из финхаба (заголовки)\n",
    "def get_news_headlines(ticker):\n",
    "    global hub_token\n",
    "    today = str(datetime.date(datetime.now()))\n",
    "    r = requests.get(f'https://finnhub.io/api/v1/company-news?symbol={ticker}&from={today}&to={today}&token={hub_token}')\n",
    "    r = r.json()\n",
    "    #print(r)\n",
    "    a = []\n",
    "    for i in r:\n",
    "        a.append(i['headline'])\n",
    "    return a\"\"\";"
   ]
  },
  {
   "cell_type": "markdown",
   "id": "b1852445",
   "metadata": {},
   "source": [
    "## Бот для тестов"
   ]
  },
  {
   "cell_type": "code",
   "execution_count": 79,
   "id": "06b82147",
   "metadata": {},
   "outputs": [],
   "source": [
    "bot = telebot.TeleBot(\"1834334715:AAEtTI6RuWqg7zMW0uCPJWb5_DfRfQ7UdtI\")"
   ]
  },
  {
   "cell_type": "code",
   "execution_count": 80,
   "id": "8e7018f4",
   "metadata": {},
   "outputs": [],
   "source": [
    "# result_photo = candles(get_quotes('TSLA', '10d', '1h')).to_image(format=\"png\", engine=\"kaleido\")"
   ]
  },
  {
   "cell_type": "code",
   "execution_count": 81,
   "id": "f6d87747",
   "metadata": {},
   "outputs": [],
   "source": [
    "@bot.message_handler(content_types=['text'])\n",
    "def responser(message, text='а там армяне в нарды играют'):\n",
    "    try:\n",
    "        ticker, period, interval = message.text.split()\n",
    "        if interval in [\"1m\",\"2m\",\"5m\",\"15m\",\"30m\",\"60m\",\"90m\",\"1h\"]:\n",
    "            result_photo = candles(get_quotes(ticker, period, interval)).to_image(format=\"png\", engine=\"kaleido\")\n",
    "            bot.send_photo(message.chat.id, result_photo)\n",
    "        else:\n",
    "            result_photo = candles(get_quotes(ticker, period, interval), type2 = True).to_image(format=\"png\", engine=\"kaleido\")\n",
    "            bot.send_photo(message.chat.id, result_photo)\n",
    "    except:\n",
    "        bot.send_message(message.chat.id, text = 'Укажите другие данные')"
   ]
  },
  {
   "cell_type": "code",
   "execution_count": 82,
   "id": "d43e0247",
   "metadata": {},
   "outputs": [],
   "source": [
    "#bot.polling(none_stop=True)"
   ]
  },
  {
   "cell_type": "markdown",
   "id": "3b725721",
   "metadata": {},
   "source": [
    "## функции"
   ]
  },
  {
   "cell_type": "markdown",
   "id": "e357dac1",
   "metadata": {},
   "source": [
    "### базовые функции"
   ]
  },
  {
   "cell_type": "code",
   "execution_count": 83,
   "id": "9fc3e37f",
   "metadata": {},
   "outputs": [],
   "source": [
    "def current_price(symbol):\n",
    "    data = yf.download(tickers=symbol, period='10m', interval='1m')\n",
    "    \n",
    "    return data['Close'][-1]"
   ]
  },
  {
   "cell_type": "code",
   "execution_count": 84,
   "id": "fa1c94ce",
   "metadata": {},
   "outputs": [],
   "source": [
    "def get_quotes(ticker, period, interval):\n",
    "    data = yf.download(tickers= ticker, period= period, interval= interval)\n",
    "    \n",
    "    if data.size != 0:\n",
    "        return data\n",
    "    else:\n",
    "        return 'неправильные данные'"
   ]
  },
  {
   "cell_type": "code",
   "execution_count": 85,
   "id": "9c2339b4",
   "metadata": {},
   "outputs": [],
   "source": [
    "def candles(data, type2 = False):\n",
    "    #declare figure\n",
    "    fig = go.Figure()\n",
    "\n",
    "    #Candlestick\n",
    "    fig.add_trace(go.Candlestick(x=data.index,\n",
    "                    open=data['Open'],\n",
    "                    high=data['High'],\n",
    "                    low=data['Low'],\n",
    "                    close=data['Close'], name = 'market data'))\n",
    "\n",
    "    # Add titles\n",
    "    \"\"\"fig.update_layout(\n",
    "        #title='Uber live share price evolution',\n",
    "        yaxis_title='Курс акций в долларах')\n",
    "\"\"\"\n",
    "    # Делаем кнопки для навигации\n",
    "    \"\"\" fig.update_xaxes(\n",
    "        rangeslider_visible=True,\n",
    "        rangeselector=dict(\n",
    "            buttons=list([\n",
    "                dict(count=15, label=\"15m\", step=\"minute\", stepmode=\"backward\"),\n",
    "                #dict(count=45, label=\"45m\", step=\"minute\", stepmode=\"backward\"),\n",
    "                dict(count=1, label=\"1h\", step=\"hour\", stepmode=\"backward\"),\n",
    "                dict(count=3, label=\"3h\", step=\"hour\", stepmode=\"backward\"),\n",
    "                dict(count=1, label=\"1d\", step=\"day\", stepmode=\"backward\"),\n",
    "                dict(count=7, label=\"1w\", step=\"day\", stepmode=\"backward\"),\n",
    "                dict(count=1, label=\"1month\", step=\"month\", stepmode=\"backward\"),\n",
    "                dict(step=\"all\")\n",
    "            ])\n",
    "        )\n",
    "    ) \"\"\"\n",
    "\n",
    "    #настраиваем размер графика\n",
    "    fig.update_layout(autosize=True,\n",
    "                      width=1000,\n",
    "                      height=700,)\n",
    "\n",
    "    #убираем разрывы меежду данными. Чтобы график был сплошной. То есть убираем выходные и часы, когда торговля не идет\n",
    "    if type2:    \n",
    "        fig.update_xaxes(\n",
    "                rangeslider_visible=False,\n",
    "                rangebreaks=[\n",
    "                    # NOTE: Below values are bound (not single values), ie. hide x to y\n",
    "                    dict(bounds=[\"sat\", \"mon\"]),  # hide weekends, eg. hide sat to before mon\n",
    "                    #dict(bounds=[16, 9.5], pattern=\"hour\"),  # hide hours outside of 9.30am-4pm\n",
    "                    # dict(values=[\"2019-12-25\", \"2020-12-24\"])  # hide holidays (Christmas and New Year's, etc)\n",
    "                ]\n",
    "            )\n",
    "    else:\n",
    "        fig.update_xaxes(\n",
    "                rangeslider_visible=False,\n",
    "                rangebreaks=[\n",
    "                    # NOTE: Below values are bound (not single values), ie. hide x to y\n",
    "                    dict(bounds=[\"sat\", \"mon\"]),  # hide weekends, eg. hide sat to before mon\n",
    "                    dict(bounds=[16, 9.5], pattern=\"hour\"),  # hide hours outside of 9.30am-4pm\n",
    "                    # dict(values=[\"2019-12-25\", \"2020-12-24\"])  # hide holidays (Christmas and New Year's, etc)\n",
    "                ]\n",
    "            )\n",
    "\n",
    "    #Show\n",
    "    #fig.show()\n",
    "    \n",
    "    return fig"
   ]
  },
  {
   "cell_type": "markdown",
   "id": "5174632e",
   "metadata": {},
   "source": [
    "### Используем апишки для получения новостей"
   ]
  },
  {
   "cell_type": "markdown",
   "id": "b742872d",
   "metadata": {},
   "source": [
    "Я написал две версии. Первая выдает смые адекватные новости, но всего 5 штук максимум (ограничение апи). Если этого мало, лучше использовать вторую"
   ]
  },
  {
   "cell_type": "code",
   "execution_count": 86,
   "id": "a6e50395",
   "metadata": {},
   "outputs": [],
   "source": [
    "google_token = \"ef44e796dd82495d9b0ac4ed58354d70\"\n",
    "hub_token = \"c33nijqad3i8edlc7t50\"\n",
    "polygon_token = \"ZrbA9bOMxg8Nf2qyV14nzV1DLk65mFip\"\n",
    "fmp_token = '9d74ad2bc0eada1a9ef3204d591431a3'"
   ]
  },
  {
   "cell_type": "code",
   "execution_count": 87,
   "id": "059d8eaf",
   "metadata": {},
   "outputs": [],
   "source": [
    "# Получение списка новостей из fmp. Апишник бесплатно выдает только 5 последних новостей, \n",
    "# однако их качество намного выше, чем у остальных апи\n",
    "def get_news(ticker):\n",
    "    url = f'https://financialmodelingprep.com/api/v3/stock_news?tickers={ticker}&limit=60&apikey={fmp_token}'\n",
    "    r = requests.get(url).json()\n",
    "    news = []\n",
    "    for i in r:\n",
    "        #не хочется показывать статьи с плохих сайтов и видео с ютуба\n",
    "        if i['site'] != 'The Motley Fool' and 'www.youtube.com' not in i['url']:\n",
    "            news.append((i['title'], i['url']))\n",
    "    return news[:5]"
   ]
  },
  {
   "cell_type": "code",
   "execution_count": 88,
   "id": "0d5882da",
   "metadata": {},
   "outputs": [],
   "source": [
    "#получение списка новостей из полигона. До ста новостей вроде бы, но пока установил на 30\n",
    "def get_news2(ticker):\n",
    "    global polygon_token\n",
    "    url = (f'https://api.polygon.io/v2/reference/news?limit=30&order=descending&sort=published_utc&ticker={ticker}&published_utc.gte=2021-04-26&apiKey={polygon_token}')\n",
    "    r = requests.get(url).json()['results']\n",
    "    news = []\n",
    "    for i in r:\n",
    "        if 'www.fool.com' not in i['article_url']:\n",
    "            news.append((i['title'], i['article_url']))\n",
    "    return news"
   ]
  },
  {
   "cell_type": "markdown",
   "id": "b1cb2f15",
   "metadata": {},
   "source": [
    "### Функция для преобразования датафрейма в изображение (биты)"
   ]
  },
  {
   "cell_type": "code",
   "execution_count": 89,
   "id": "25b5179e",
   "metadata": {},
   "outputs": [],
   "source": [
    "def table_to_png(table):\n",
    "    png = io.BytesIO()\n",
    "    dfi.export(table, png)\n",
    "    return png.getvalue()"
   ]
  },
  {
   "cell_type": "markdown",
   "id": "0cf3d887",
   "metadata": {},
   "source": [
    "### получение инфы от yfinance"
   ]
  },
  {
   "cell_type": "markdown",
   "id": "1953301a",
   "metadata": {},
   "source": [
    "Функции для вывода в качестве изображений табличек с балансом, оддс (ну типа) и рекомендациями "
   ]
  },
  {
   "cell_type": "code",
   "execution_count": 90,
   "id": "90f036ac",
   "metadata": {},
   "outputs": [],
   "source": [
    "def balance_sheet(ticker):\n",
    "    data = yf.Ticker(ticker).balance_sheet\n",
    "    return table_to_png(data)"
   ]
  },
  {
   "cell_type": "code",
   "execution_count": 91,
   "id": "6346ca75",
   "metadata": {},
   "outputs": [],
   "source": [
    "def cashflow(ticker):\n",
    "    data = yf.Ticker(ticker).cashflow  \n",
    "    return table_to_png(data)"
   ]
  },
  {
   "cell_type": "code",
   "execution_count": 92,
   "id": "86bb8290",
   "metadata": {},
   "outputs": [],
   "source": [
    "def recommendations(ticker):\n",
    "    data = yf.Ticker(ticker).recommendations[-20:]\n",
    "    return table_to_png(data)"
   ]
  },
  {
   "cell_type": "markdown",
   "id": "be515e93",
   "metadata": {},
   "source": [
    "описание компании"
   ]
  },
  {
   "cell_type": "code",
   "execution_count": 93,
   "id": "9306e3b1",
   "metadata": {},
   "outputs": [],
   "source": [
    "def summary(ticker):\n",
    "    return yf.Ticker(ticker).info['longBusinessSummary']"
   ]
  },
  {
   "cell_type": "markdown",
   "id": "e5c0a4cb",
   "metadata": {},
   "source": [
    "### Аналитика через fmp"
   ]
  },
  {
   "cell_type": "code",
   "execution_count": 94,
   "id": "75b8c1c2",
   "metadata": {},
   "outputs": [],
   "source": [
    "#коэффициенты компаний за последние 5 лет. Там их очень много, надо бы отобрать самые нужные\n",
    "def fin_ratios(ticker):\n",
    "    url = f'https://financialmodelingprep.com/api/v3/ratios/{ticker}?limit=5&apikey={fmp_token}'\n",
    "    r = requests.get(url).json()\n",
    "    df = pd.DataFrame(index = list(r[0].keys())[3:])\n",
    "    df.index.name = f'{ticker} financial ratios'\n",
    "    for i in r:\n",
    "        df[i['date']] = list(i.values())[3:]\n",
    "    return df"
   ]
  },
  {
   "cell_type": "code",
   "execution_count": 95,
   "id": "55137868",
   "metadata": {},
   "outputs": [],
   "source": [
    "# главные показатели за 5 лет. Опять же, их очень много и надо бы часть убрать\n",
    "def key_metrics(ticker):\n",
    "    url = f'https://financialmodelingprep.com/api/v3/key-metrics/{ticker}?limit=5&apikey={fmp_token}'\n",
    "    r = requests.get(url).json()\n",
    "    df = pd.DataFrame(index = list(r[0].keys())[3:])\n",
    "    df.index.name = f'{ticker} key metrics'\n",
    "    for i in r:\n",
    "        df[i['date']] = list(i.values())[3:]\n",
    "    return df"
   ]
  },
  {
   "cell_type": "code",
   "execution_count": null,
   "id": "0169b741",
   "metadata": {},
   "outputs": [],
   "source": []
  },
  {
   "cell_type": "code",
   "execution_count": null,
   "id": "b9739250",
   "metadata": {},
   "outputs": [],
   "source": []
  },
  {
   "cell_type": "code",
   "execution_count": null,
   "id": "235201ca",
   "metadata": {
    "scrolled": true
   },
   "outputs": [],
   "source": []
  },
  {
   "cell_type": "code",
   "execution_count": null,
   "id": "1ac4bb20",
   "metadata": {},
   "outputs": [],
   "source": []
  },
  {
   "cell_type": "code",
   "execution_count": null,
   "id": "3972ceba",
   "metadata": {
    "scrolled": true
   },
   "outputs": [],
   "source": []
  },
  {
   "cell_type": "code",
   "execution_count": null,
   "id": "2d14ab10",
   "metadata": {
    "scrolled": true
   },
   "outputs": [],
   "source": []
  },
  {
   "cell_type": "code",
   "execution_count": null,
   "id": "9d987015",
   "metadata": {},
   "outputs": [],
   "source": []
  },
  {
   "cell_type": "code",
   "execution_count": null,
   "id": "63c10ed7",
   "metadata": {},
   "outputs": [],
   "source": []
  }
 ],
 "metadata": {
  "kernelspec": {
   "display_name": "Python 3",
   "language": "python",
   "name": "python3"
  },
  "language_info": {
   "codemirror_mode": {
    "name": "ipython",
    "version": 3
   },
   "file_extension": ".py",
   "mimetype": "text/x-python",
   "name": "python",
   "nbconvert_exporter": "python",
   "pygments_lexer": "ipython3",
   "version": "3.9.0"
  }
 },
 "nbformat": 4,
 "nbformat_minor": 5
}
