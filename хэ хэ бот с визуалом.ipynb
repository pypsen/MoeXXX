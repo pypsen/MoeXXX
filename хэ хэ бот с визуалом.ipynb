{
 "cells": [
  {
   "cell_type": "code",
   "execution_count": 114,
   "id": "42d0d7db",
   "metadata": {},
   "outputs": [],
   "source": [
    "import requests\n",
    "from datetime import datetime\n",
    "import telebot\n",
    "from telebot import types\n",
    "import sqlite3\n",
    "import random\n",
    "\n",
    "import numpy as np\n",
    "import pandas as pd\n",
    "import psutil\n",
    "from IPython.display import Image\n",
    "\n",
    "#Data Source\n",
    "import yfinance as yf\n",
    "\n",
    "#Data viz\n",
    "import plotly.graph_objs as go\n",
    "\n",
    "import kaleido\n",
    "import json\n",
    "import matplotlib.pyplot as plt\n",
    "import seaborn as sns\n",
    "import plotly \n",
    "import plotly.graph_objects as go\n",
    "import collections\n",
    "import plotly.express as px\n",
    "\n",
    "pd.set_option('display.max_rows', None)\n",
    "pd.set_option('display.max_columns', None)\n",
    "pd.set_option('display.max_colwidth', None)"
   ]
  },
  {
   "cell_type": "markdown",
   "id": "93a8f88a",
   "metadata": {},
   "source": [
    "## Черновик"
   ]
  },
  {
   "cell_type": "code",
   "execution_count": null,
   "id": "a6271aff",
   "metadata": {},
   "outputs": [],
   "source": [
    "#https://api.hh.ru/\n",
    "#GET/vacancies\n",
    "#'https://api.hh.ru/vacancies?text=java'\n",
    "#HH-User-Agent\n",
    "#"
   ]
  },
  {
   "cell_type": "markdown",
   "id": "c4edcbbc",
   "metadata": {},
   "source": [
    "Поиск вакансий по запросу. Описание метода тут https://github.com/hhru/api/blob/master/docs/vacancies.md"
   ]
  },
  {
   "cell_type": "code",
   "execution_count": 168,
   "id": "7a417350",
   "metadata": {},
   "outputs": [],
   "source": [
    "# r=requests.get('https://api.hh.ru/vacancies?text=python&per_page=100', headers={\"User-Agent\":\"HH-User-Agent\"})"
   ]
  },
  {
   "cell_type": "markdown",
   "id": "52e3e37d",
   "metadata": {},
   "source": [
    "поиск по вакансиям, похожим на вакансию"
   ]
  },
  {
   "cell_type": "code",
   "execution_count": 166,
   "id": "b1323f5a",
   "metadata": {},
   "outputs": [],
   "source": []
  },
  {
   "cell_type": "code",
   "execution_count": 169,
   "id": "5a1807d7",
   "metadata": {},
   "outputs": [],
   "source": [
    "#GET/vacancies/{vacancy_id}/similar_vacancies"
   ]
  },
  {
   "cell_type": "markdown",
   "id": "14466632",
   "metadata": {},
   "source": [
    "получение инфы о вакансии по id\n"
   ]
  },
  {
   "cell_type": "code",
   "execution_count": 170,
   "id": "eecb8683",
   "metadata": {},
   "outputs": [],
   "source": [
    "#GET/vacancies/{vacancy_id}"
   ]
  },
  {
   "cell_type": "markdown",
   "id": "64be4643",
   "metadata": {},
   "source": [
    "поиск по компаниям. Описание тут https://github.com/hhru/api/blob/master/docs/employers.md#search"
   ]
  },
  {
   "cell_type": "code",
   "execution_count": 171,
   "id": "a093d595",
   "metadata": {},
   "outputs": [],
   "source": [
    "#GET/employers   можно указать критерии поиска компаний\n",
    "\n",
    "#GET/employers/{employer_id}     возвращает данные о компании со ссылкой на выдачу вакансий этой компании"
   ]
  },
  {
   "cell_type": "markdown",
   "id": "c21d2a7a",
   "metadata": {},
   "source": [
    "## Приступаем к получению данных"
   ]
  },
  {
   "cell_type": "markdown",
   "id": "dd7d1be3",
   "metadata": {},
   "source": [
    "Сначала посмотрим, как вообще выглядит джейсонина"
   ]
  },
  {
   "cell_type": "code",
   "execution_count": 2,
   "id": "59ecee92",
   "metadata": {},
   "outputs": [],
   "source": [
    "#получение списка зарплат\n",
    "\"\"\"a = []\n",
    "for i in r['items']:\n",
    "    try:\n",
    "        a.append((i['salary']['from'], i['salary']['to'], i['salary']['currency']))\n",
    "    except:\n",
    "        pass\"\"\";"
   ]
  },
  {
   "cell_type": "code",
   "execution_count": 3,
   "id": "d3cbec17",
   "metadata": {},
   "outputs": [],
   "source": [
    "search = 'python'\n",
    "r = requests.get(f'https://api.hh.ru/vacancies?text={search}&per_page=100', headers={\"User-Agent\":\"HH-User-Agent\"}).json()"
   ]
  },
  {
   "cell_type": "code",
   "execution_count": 4,
   "id": "8fc8e31f",
   "metadata": {},
   "outputs": [
    {
     "data": {
      "text/plain": [
       "{'id': '30005963',\n",
       " 'premium': False,\n",
       " 'name': 'Python developer',\n",
       " 'department': None,\n",
       " 'has_test': False,\n",
       " 'response_letter_required': False,\n",
       " 'area': {'id': '1', 'name': 'Москва', 'url': 'https://api.hh.ru/areas/1'},\n",
       " 'salary': {'from': 4000, 'to': None, 'currency': 'USD', 'gross': False},\n",
       " 'type': {'id': 'open', 'name': 'Открытая'},\n",
       " 'address': {'city': None,\n",
       "  'street': None,\n",
       "  'building': None,\n",
       "  'description': None,\n",
       "  'lat': None,\n",
       "  'lng': None,\n",
       "  'raw': None,\n",
       "  'metro': {'station_name': 'Бауманская',\n",
       "   'line_name': 'Арбатско-Покровская',\n",
       "   'station_id': '3.17',\n",
       "   'line_id': '3',\n",
       "   'lat': 55.772405,\n",
       "   'lng': 37.67904},\n",
       "  'metro_stations': [{'station_name': 'Бауманская',\n",
       "    'line_name': 'Арбатско-Покровская',\n",
       "    'station_id': '3.17',\n",
       "    'line_id': '3',\n",
       "    'lat': 55.772405,\n",
       "    'lng': 37.67904},\n",
       "   {'station_name': 'Комсомольская',\n",
       "    'line_name': 'Кольцевая',\n",
       "    'station_id': '5.55',\n",
       "    'line_id': '5',\n",
       "    'lat': 55.775672,\n",
       "    'lng': 37.654772}],\n",
       "  'id': '1602971'},\n",
       " 'response_url': None,\n",
       " 'sort_point_distance': None,\n",
       " 'published_at': '2021-06-15T17:00:24+0300',\n",
       " 'created_at': '2021-06-15T17:00:24+0300',\n",
       " 'archived': False,\n",
       " 'apply_alternate_url': 'https://hh.ru/applicant/vacancy_response?vacancyId=30005963',\n",
       " 'insider_interview': None,\n",
       " 'url': 'https://api.hh.ru/vacancies/30005963?host=hh.ru',\n",
       " 'alternate_url': 'https://hh.ru/vacancy/30005963',\n",
       " 'relations': [],\n",
       " 'employer': {'id': '899854',\n",
       "  'name': 'NetworkOptix',\n",
       "  'url': 'https://api.hh.ru/employers/899854',\n",
       "  'alternate_url': 'https://hh.ru/employer/899854',\n",
       "  'logo_urls': {'original': 'https://hhcdn.ru/employer-logo-original/765059.png',\n",
       "   '90': 'https://hhcdn.ru/employer-logo/3501193.png',\n",
       "   '240': 'https://hhcdn.ru/employer-logo/3501194.png'},\n",
       "  'vacancies_url': 'https://api.hh.ru/vacancies?employer_id=899854',\n",
       "  'trusted': True},\n",
       " 'snippet': {'requirement': 'Хорошего знания <highlighttext>Python</highlighttext>. От 3 лет опыта коммерческой разработки. Общих знаний computer science.',\n",
       "  'responsibility': 'Разрабатываем на <highlighttext>Python</highlighttext> 3.8. Используем pytest в качестве тестового фреймворка. Храним код в Git/Gerrit. Проводим ревью в Gerrit...'},\n",
       " 'contacts': None,\n",
       " 'schedule': {'id': 'fullDay', 'name': 'Полный день'},\n",
       " 'working_days': [],\n",
       " 'working_time_intervals': [],\n",
       " 'working_time_modes': [],\n",
       " 'accept_temporary': False}"
      ]
     },
     "execution_count": 4,
     "metadata": {},
     "output_type": "execute_result"
    }
   ],
   "source": [
    "vac = r['items'][0]\n",
    "vac"
   ]
  },
  {
   "cell_type": "code",
   "execution_count": 5,
   "id": "9763e1dd",
   "metadata": {},
   "outputs": [
    {
     "data": {
      "text/plain": [
       "'Python developer'"
      ]
     },
     "execution_count": 5,
     "metadata": {},
     "output_type": "execute_result"
    }
   ],
   "source": [
    "vac['name']"
   ]
  },
  {
   "cell_type": "code",
   "execution_count": 6,
   "id": "35e3af38",
   "metadata": {},
   "outputs": [
    {
     "data": {
      "text/plain": [
       "{'from': 4000, 'to': None, 'currency': 'USD', 'gross': False}"
      ]
     },
     "execution_count": 6,
     "metadata": {},
     "output_type": "execute_result"
    }
   ],
   "source": [
    "vac['salary']"
   ]
  },
  {
   "cell_type": "code",
   "execution_count": 7,
   "id": "0c19106d",
   "metadata": {},
   "outputs": [
    {
     "data": {
      "text/plain": [
       "{'id': '1', 'name': 'Москва', 'url': 'https://api.hh.ru/areas/1'}"
      ]
     },
     "execution_count": 7,
     "metadata": {},
     "output_type": "execute_result"
    }
   ],
   "source": [
    "vac['area']"
   ]
  },
  {
   "cell_type": "code",
   "execution_count": 8,
   "id": "8938de17",
   "metadata": {},
   "outputs": [
    {
     "data": {
      "text/plain": [
       "{'city': None,\n",
       " 'street': None,\n",
       " 'building': None,\n",
       " 'description': None,\n",
       " 'lat': None,\n",
       " 'lng': None,\n",
       " 'raw': None,\n",
       " 'metro': {'station_name': 'Бауманская',\n",
       "  'line_name': 'Арбатско-Покровская',\n",
       "  'station_id': '3.17',\n",
       "  'line_id': '3',\n",
       "  'lat': 55.772405,\n",
       "  'lng': 37.67904},\n",
       " 'metro_stations': [{'station_name': 'Бауманская',\n",
       "   'line_name': 'Арбатско-Покровская',\n",
       "   'station_id': '3.17',\n",
       "   'line_id': '3',\n",
       "   'lat': 55.772405,\n",
       "   'lng': 37.67904},\n",
       "  {'station_name': 'Комсомольская',\n",
       "   'line_name': 'Кольцевая',\n",
       "   'station_id': '5.55',\n",
       "   'line_id': '5',\n",
       "   'lat': 55.775672,\n",
       "   'lng': 37.654772}],\n",
       " 'id': '1602971'}"
      ]
     },
     "execution_count": 8,
     "metadata": {},
     "output_type": "execute_result"
    }
   ],
   "source": [
    "vac['address']"
   ]
  },
  {
   "cell_type": "code",
   "execution_count": 9,
   "id": "cfcd0a7b",
   "metadata": {},
   "outputs": [
    {
     "data": {
      "text/plain": [
       "'https://hh.ru/vacancy/30005963'"
      ]
     },
     "execution_count": 9,
     "metadata": {},
     "output_type": "execute_result"
    }
   ],
   "source": [
    "vac['alternate_url'] #ссылка на вакансию на сайте"
   ]
  },
  {
   "cell_type": "code",
   "execution_count": 10,
   "id": "abef5c11",
   "metadata": {},
   "outputs": [
    {
     "data": {
      "text/plain": [
       "{'id': '899854',\n",
       " 'name': 'NetworkOptix',\n",
       " 'url': 'https://api.hh.ru/employers/899854',\n",
       " 'alternate_url': 'https://hh.ru/employer/899854',\n",
       " 'logo_urls': {'original': 'https://hhcdn.ru/employer-logo-original/765059.png',\n",
       "  '90': 'https://hhcdn.ru/employer-logo/3501193.png',\n",
       "  '240': 'https://hhcdn.ru/employer-logo/3501194.png'},\n",
       " 'vacancies_url': 'https://api.hh.ru/vacancies?employer_id=899854',\n",
       " 'trusted': True}"
      ]
     },
     "execution_count": 10,
     "metadata": {},
     "output_type": "execute_result"
    }
   ],
   "source": [
    "vac['employer']"
   ]
  },
  {
   "cell_type": "code",
   "execution_count": 11,
   "id": "dae67624",
   "metadata": {},
   "outputs": [
    {
     "data": {
      "text/plain": [
       "'https://api.hh.ru/vacancies/30005963?host=hh.ru'"
      ]
     },
     "execution_count": 11,
     "metadata": {},
     "output_type": "execute_result"
    }
   ],
   "source": [
    "vac['url'] #ссылка на получение подробной инфы о вакансии через апи"
   ]
  },
  {
   "cell_type": "markdown",
   "id": "8da58c66",
   "metadata": {},
   "source": [
    "### Пишем функции для получения инфы"
   ]
  },
  {
   "cell_type": "code",
   "execution_count": 16,
   "id": "5eb16b29",
   "metadata": {},
   "outputs": [],
   "source": [
    "\"\"\"params = {\n",
    "        'text': 'инженер', # Текст фильтра. В имени должно быть слово \"Аналитик\n",
    "        'per_page': 61, # Кол-во вакансий на 1 странице\n",
    "    }\"\"\""
   ]
  },
  {
   "cell_type": "code",
   "execution_count": 12,
   "id": "e82828cf",
   "metadata": {},
   "outputs": [],
   "source": [
    "#вспомогательная функция для форматирования инфы о зарплате\n",
    "\n",
    "def get_salary(sal):\n",
    "    if sal['currency'] == None:\n",
    "        sal['currency'] = ''\n",
    "    if sal['from'] == None and sal['to'] == None:\n",
    "        t = 'зарплата не указана'\n",
    "        return t\n",
    "    if sal['from'] == None:\n",
    "        t = f'зарплата до {sal[\"to\"]} {sal[\"currency\"]}'\n",
    "        return t\n",
    "    if sal['to'] == None:\n",
    "        t = f'зарплата от {sal[\"from\"]} {sal[\"currency\"]}'\n",
    "        return t\n",
    "    else:\n",
    "        t = f'зарплата от {sal[\"from\"]} {sal[\"currency\"]} до {sal[\"to\"]} {sal[\"currency\"]}'\n",
    "        return t"
   ]
  },
  {
   "cell_type": "code",
   "execution_count": 19,
   "id": "1e11b48a",
   "metadata": {},
   "outputs": [],
   "source": [
    "# основная функция получения инфы о вакансиях. Принимает запрос, по которому искать вакансию (любой текст)\n",
    "# и номер вакансии в выдаче (ноль из ста по умолчанию). Если номер указан больше, чем есть в выдаче, то берет последнюю\n",
    "# Возвращает инфу о названии вакансии, зарплате, регионе (но не городе подробно. Это можно будет прикрутить, если нужно)\n",
    "# а также ссылку на вакансию с сайта хэ хэ\n",
    "\n",
    "def get_vacancy_main(search, number = 0):\n",
    "    data = requests.get(f'https://api.hh.ru/vacancies?text={search}&per_page=100', \n",
    "                        headers={\"User-Agent\":\"HH-User-Agent\"}).json()\n",
    "    \n",
    "    if len(data['items']) == 0:\n",
    "        return 'вакансий по этому запросу не найдено'\n",
    "    \n",
    "    #получаем нужную вакансию из списка\n",
    "    data = data['items'][min(number, len(data['items']) - 1)]\n",
    "    \n",
    "    name = data['name']\n",
    "    \n",
    "    try:\n",
    "        salary = get_salary(data['salary'])\n",
    "    except:\n",
    "        salary = 'зарплата не указана'\n",
    "    \n",
    "    try:\n",
    "        area = data['area']['name']\n",
    "    except:\n",
    "        area = 'регион не указан'\n",
    "    \n",
    "    if data['alternate_url'] != None:\n",
    "        url = data['alternate_url']\n",
    "    else:\n",
    "        url = 'ссылка на вакансию отсутствует'\n",
    "    \n",
    "    \n",
    "    \n",
    "    return (name, salary, area, url)"
   ]
  },
  {
   "cell_type": "markdown",
   "id": "dc18e47e",
   "metadata": {},
   "source": [
    "парс зарплат"
   ]
  },
  {
   "cell_type": "code",
   "execution_count": 88,
   "id": "48df6c69",
   "metadata": {},
   "outputs": [],
   "source": []
  },
  {
   "cell_type": "code",
   "execution_count": 89,
   "id": "2460d28c",
   "metadata": {},
   "outputs": [],
   "source": []
  },
  {
   "cell_type": "code",
   "execution_count": 90,
   "id": "a9f565cf",
   "metadata": {},
   "outputs": [],
   "source": []
  },
  {
   "cell_type": "markdown",
   "id": "0242c73b",
   "metadata": {},
   "source": [
    "## Визуализация"
   ]
  },
  {
   "cell_type": "markdown",
   "id": "f0b660e4",
   "metadata": {},
   "source": [
    "функция для получения списка зарплат по запросу. Выдает два списка: минимльных и максимальных зарплат "
   ]
  },
  {
   "cell_type": "code",
   "execution_count": 246,
   "id": "582eae33",
   "metadata": {},
   "outputs": [],
   "source": [
    "def all_salaries(search):\n",
    "    \n",
    "    #заводим пустой список для всех зарплат и делаем тестовый запрос, чтобы узнать, сколько страниц в выдаче\n",
    "    salaries = []\n",
    "    test = requests.get(f'https://api.hh.ru/vacancies?text={search}&per_page=100',\n",
    "                        headers={\"User-Agent\":\"HH-User-Agent\"}).json()\n",
    "    pages = test['pages']\n",
    "    \n",
    "    #проходимся по всем страницам в выдаче и склеиваем инфу о зарплатах. Парсится максимум 10 страниц, так как иначе очень долго\n",
    "    for i in range(min(pages, 10)):\n",
    "        data = requests.get(f'https://api.hh.ru/vacancies?text={search}&per_page=100&page={i}', \n",
    "                            headers={\"User-Agent\":\"HH-User-Agent\"}).json()\n",
    "        for vac in data['items']:\n",
    "            salaries.append(vac['salary'])\n",
    "            \n",
    "    #достаем из списка всех зарплат верхние и нижние границы    \n",
    "    salaries_from = []\n",
    "    salaries_to = []\n",
    "\n",
    "    for salary in salaries:\n",
    "        if salary != None:\n",
    "            if salary['currency'] in ['RUR', 'RUB']:\n",
    "                if salary['from'] != None:\n",
    "                    salaries_from.append(salary['from'])\n",
    "                if salary['to'] != None:\n",
    "                    salaries_to.append(salary['to'])   \n",
    "    \n",
    "    return (salaries_from, salaries_to)"
   ]
  },
  {
   "cell_type": "markdown",
   "id": "8fb13665",
   "metadata": {},
   "source": [
    "функция для построения гистограмм"
   ]
  },
  {
   "cell_type": "code",
   "execution_count": 242,
   "id": "7f9b84cf",
   "metadata": {},
   "outputs": [],
   "source": [
    "def histogram(data):\n",
    "    fig = px.histogram(data, nbins=30)\n",
    "    \n",
    "    fig.update_layout(\n",
    "        title_text='распределение зарплат', # title of plot\n",
    "        xaxis_title_text='зарплата', # xaxis label\n",
    "        yaxis_title_text='количество вакансий', # yaxis label\n",
    "        bargap=0.01, # gap between bars of adjacent location coordinates\n",
    "        bargroupgap=0.01 # gap between bars of the same location coordinates\n",
    "    )\n",
    "\n",
    "    fig.update_layout(autosize=True,\n",
    "                          width=800,\n",
    "                          height=500,)\n",
    "    \n",
    "    return fig\n"
   ]
  },
  {
   "cell_type": "markdown",
   "id": "eef1b617",
   "metadata": {},
   "source": [
    "# БОТ"
   ]
  },
  {
   "cell_type": "code",
   "execution_count": 191,
   "id": "472aeead",
   "metadata": {},
   "outputs": [],
   "source": [
    "#import plotly.io as pio"
   ]
  },
  {
   "cell_type": "code",
   "execution_count": 192,
   "id": "c4f78ed5",
   "metadata": {},
   "outputs": [],
   "source": [
    "#pio.kaleido.scope.plotlyjs = r'D:\\PythonModules\\plotly\\package_data\\plotly.min.js'"
   ]
  },
  {
   "cell_type": "code",
   "execution_count": 243,
   "id": "53201578",
   "metadata": {},
   "outputs": [],
   "source": [
    "token = \"1866111504:AAFOl1jrVlrK00yoJQkDRGeFtNB0-iXh5u4\" #ААААА спалил токен\n",
    "bot = telebot.TeleBot(token)"
   ]
  },
  {
   "cell_type": "code",
   "execution_count": 244,
   "id": "693d5879",
   "metadata": {},
   "outputs": [],
   "source": [
    "@bot.message_handler(content_types=['text'])\n",
    "def responser(message, text='а там армяне в нарды играют'):\n",
    "\n",
    "    data = all_salaries(message.text)\n",
    "    try: \n",
    "        result_photo = histogram(data[0]).to_image(format=\"png\", engine=\"kaleido\")\n",
    "        bot.send_photo(message.chat.id, result_photo)\n",
    "    except:\n",
    "        bot.send_message(message.chat.id, 'введите другой запрос')\n"
   ]
  },
  {
   "cell_type": "code",
   "execution_count": 245,
   "id": "22402e52",
   "metadata": {},
   "outputs": [],
   "source": [
    "bot.polling(none_stop=True)"
   ]
  },
  {
   "cell_type": "code",
   "execution_count": null,
   "id": "ba1ea4a1",
   "metadata": {},
   "outputs": [],
   "source": []
  },
  {
   "cell_type": "code",
   "execution_count": null,
   "id": "54ef5e72",
   "metadata": {},
   "outputs": [],
   "source": []
  }
 ],
 "metadata": {
  "kernelspec": {
   "display_name": "Python 3",
   "language": "python",
   "name": "python3"
  },
  "language_info": {
   "codemirror_mode": {
    "name": "ipython",
    "version": 3
   },
   "file_extension": ".py",
   "mimetype": "text/x-python",
   "name": "python",
   "nbconvert_exporter": "python",
   "pygments_lexer": "ipython3",
   "version": "3.9.0"
  }
 },
 "nbformat": 4,
 "nbformat_minor": 5
}
