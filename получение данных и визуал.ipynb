{
 "cells": [
  {
   "cell_type": "markdown",
   "id": "66d6be8f",
   "metadata": {},
   "source": [
    "# Импорты и функции"
   ]
  },
  {
   "cell_type": "code",
   "execution_count": null,
   "id": "db5f76ea",
   "metadata": {},
   "outputs": [],
   "source": []
  },
  {
   "cell_type": "code",
   "execution_count": 175,
   "id": "6457f573",
   "metadata": {},
   "outputs": [],
   "source": [
    "import telebot\n",
    "from telebot import types\n",
    "import sqlite3\n",
    "import random\n",
    "\n",
    "import numpy as np\n",
    "import pandas as pd\n",
    "import psutil\n",
    "from IPython.display import Image\n",
    "\n",
    "#Data Source\n",
    "import yfinance as yf\n",
    "\n",
    "#Data viz\n",
    "import plotly.graph_objs as go\n",
    "\n",
    "import kaleido\n",
    "import json\n",
    "import matplotlib.pyplot as plt\n",
    "import seaborn as sns\n",
    "import plotly \n",
    "import plotly.graph_objects as go\n",
    "import collections\n",
    "\n",
    "pd.set_option('display.max_rows', None)\n",
    "pd.set_option('display.max_columns', None)\n",
    "pd.set_option('display.max_colwidth', None)"
   ]
  },
  {
   "cell_type": "code",
   "execution_count": 176,
   "id": "9c2339b4",
   "metadata": {},
   "outputs": [],
   "source": [
    "def candles(data):\n",
    "    #declare figure\n",
    "    fig = go.Figure()\n",
    "\n",
    "    #Candlestick\n",
    "    fig.add_trace(go.Candlestick(x=data.index,\n",
    "                    open=data['Open'],\n",
    "                    high=data['High'],\n",
    "                    low=data['Low'],\n",
    "                    close=data['Close'], name = 'market data'))\n",
    "\n",
    "    # Add titles\n",
    "    \"\"\"fig.update_layout(\n",
    "        #title='Uber live share price evolution',\n",
    "        yaxis_title='Курс акций в долларах')\n",
    "\"\"\"\n",
    "    # Делаем кнопки для навигации\n",
    "    \"\"\" fig.update_xaxes(\n",
    "        rangeslider_visible=True,\n",
    "        rangeselector=dict(\n",
    "            buttons=list([\n",
    "                dict(count=15, label=\"15m\", step=\"minute\", stepmode=\"backward\"),\n",
    "                #dict(count=45, label=\"45m\", step=\"minute\", stepmode=\"backward\"),\n",
    "                dict(count=1, label=\"1h\", step=\"hour\", stepmode=\"backward\"),\n",
    "                dict(count=3, label=\"3h\", step=\"hour\", stepmode=\"backward\"),\n",
    "                dict(count=1, label=\"1d\", step=\"day\", stepmode=\"backward\"),\n",
    "                dict(count=7, label=\"1w\", step=\"day\", stepmode=\"backward\"),\n",
    "                dict(count=1, label=\"1month\", step=\"month\", stepmode=\"backward\"),\n",
    "                dict(step=\"all\")\n",
    "            ])\n",
    "        )\n",
    "    ) \"\"\"\n",
    "\n",
    "    #настраиваем размер графика\n",
    "    fig.update_layout(autosize=True,\n",
    "                      width=1000,\n",
    "                      height=700,)\n",
    "\n",
    "    #убираем разрывы меежду данными. Чтобы график был сплошной. То есть убираем выходные и часы, когда торговля не идет\n",
    "    fig.update_xaxes(\n",
    "            rangeslider_visible=False,\n",
    "            rangebreaks=[\n",
    "                # NOTE: Below values are bound (not single values), ie. hide x to y\n",
    "                dict(bounds=[\"sat\", \"mon\"]),  # hide weekends, eg. hide sat to before mon\n",
    "                dict(bounds=[16, 9.5], pattern=\"hour\"),  # hide hours outside of 9.30am-4pm\n",
    "                # dict(values=[\"2019-12-25\", \"2020-12-24\"])  # hide holidays (Christmas and New Year's, etc)\n",
    "            ]\n",
    "        )\n",
    "\n",
    "    #Show\n",
    "    #fig.show()\n",
    "    \n",
    "    return fig"
   ]
  },
  {
   "cell_type": "code",
   "execution_count": 177,
   "id": "9fc3e37f",
   "metadata": {},
   "outputs": [],
   "source": [
    "def current_price(symbol):\n",
    "    data = yf.download(tickers=symbol, period='1m', interval='1m')\n",
    "    \n",
    "    return data['Close'][-1]"
   ]
  },
  {
   "cell_type": "code",
   "execution_count": 178,
   "id": "fa1c94ce",
   "metadata": {},
   "outputs": [],
   "source": [
    "def get_quotes(ticker, period, interval):\n",
    "    data = yf.download(tickers= ticker, period= period, interval= interval)\n",
    "    \n",
    "    if data.size != 0:\n",
    "        return data\n",
    "    else:\n",
    "        return 'неправильные данные'"
   ]
  },
  {
   "cell_type": "code",
   "execution_count": null,
   "id": "960418b5",
   "metadata": {},
   "outputs": [],
   "source": []
  },
  {
   "cell_type": "markdown",
   "id": "e3b569c6",
   "metadata": {},
   "source": [
    "# черновик"
   ]
  },
  {
   "cell_type": "code",
   "execution_count": 141,
   "id": "078c951e",
   "metadata": {},
   "outputs": [],
   "source": [
    "# fig.to_image(format=\"png\", engine=\"kaleido\")"
   ]
  },
  {
   "cell_type": "code",
   "execution_count": 142,
   "id": "e61bfcc8",
   "metadata": {},
   "outputs": [],
   "source": [
    "# fig = candles(get_quotes('TSLA', '10d', '15m'))"
   ]
  },
  {
   "cell_type": "markdown",
   "id": "850d0fad",
   "metadata": {},
   "source": [
    "# Бот"
   ]
  },
  {
   "cell_type": "code",
   "execution_count": 179,
   "id": "06b82147",
   "metadata": {},
   "outputs": [],
   "source": [
    "bot = telebot.TeleBot(\"1834334715:AAEtTI6RuWqg7zMW0uCPJWb5_DfRfQ7UdtI\")"
   ]
  },
  {
   "cell_type": "code",
   "execution_count": 180,
   "id": "7143863d",
   "metadata": {},
   "outputs": [],
   "source": [
    "# result_photo = candles(get_quotes('TSLA', '10d', '1h')).to_image(format=\"png\", engine=\"kaleido\")"
   ]
  },
  {
   "cell_type": "code",
   "execution_count": 181,
   "id": "f6d87747",
   "metadata": {},
   "outputs": [],
   "source": [
    "@bot.message_handler(content_types=['text'])\n",
    "def responser(message, text='а там армяне в нарды играют'):\n",
    "    try:\n",
    "        ticker, period, interval = message.text.split()\n",
    "        result_photo = candles(get_quotes(ticker, period, interval)).to_image(format=\"png\", engine=\"kaleido\")\n",
    "        bot.send_photo(message.chat.id, result_photo)\n",
    "    except:\n",
    "        bot.send_message(message.chat.id, text = 'Укажите другие данные')"
   ]
  },
  {
   "cell_type": "code",
   "execution_count": 182,
   "id": "d43e0247",
   "metadata": {},
   "outputs": [
    {
     "name": "stdout",
     "output_type": "stream",
     "text": [
      "[*********************100%***********************]  1 of 1 completed\n",
      "\n",
      "1 Failed download:\n",
      "- А: Invalid input - interval=а is not supported. Valid intervals: [1m, 2m, 5m, 15m, 30m, 60m, 90m, 1h, 1d, 5d, 1wk, 1mo, 3mo]\n",
      "[*********************100%***********************]  1 of 1 completed\n",
      "\n",
      "1 Failed download:\n",
      "- FF: Invalid input - interval=d is not supported. Valid intervals: [1m, 2m, 5m, 15m, 30m, 60m, 90m, 1h, 1d, 5d, 1wk, 1mo, 3mo]\n",
      "[*********************100%***********************]  1 of 1 completed\n",
      "[*********************100%***********************]  1 of 1 completed\n",
      "[*********************100%***********************]  1 of 1 completed\n",
      "[*********************100%***********************]  1 of 1 completed\n",
      "[*********************100%***********************]  1 of 1 completed\n"
     ]
    }
   ],
   "source": [
    "bot.polling(none_stop=True)"
   ]
  },
  {
   "cell_type": "code",
   "execution_count": null,
   "id": "f818ef8d",
   "metadata": {},
   "outputs": [],
   "source": []
  },
  {
   "cell_type": "code",
   "execution_count": null,
   "id": "6ec4694e",
   "metadata": {},
   "outputs": [],
   "source": []
  },
  {
   "cell_type": "code",
   "execution_count": null,
   "id": "09c87e5c",
   "metadata": {},
   "outputs": [],
   "source": []
  },
  {
   "cell_type": "code",
   "execution_count": null,
   "id": "f73feb81",
   "metadata": {},
   "outputs": [],
   "source": []
  }
 ],
 "metadata": {
  "kernelspec": {
   "display_name": "Python 3",
   "language": "python",
   "name": "python3"
  },
  "language_info": {
   "codemirror_mode": {
    "name": "ipython",
    "version": 3
   },
   "file_extension": ".py",
   "mimetype": "text/x-python",
   "name": "python",
   "nbconvert_exporter": "python",
   "pygments_lexer": "ipython3",
   "version": "3.9.0"
  }
 },
 "nbformat": 4,
 "nbformat_minor": 5
}
