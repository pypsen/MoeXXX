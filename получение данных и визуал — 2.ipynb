{
 "cells": [
  {
   "cell_type": "markdown",
   "id": "54ec1a19",
   "metadata": {},
   "source": [
    "# Импорты и функции"
   ]
  },
  {
   "cell_type": "code",
   "execution_count": null,
   "id": "fc8c57db",
   "metadata": {},
   "outputs": [],
   "source": []
  },
  {
   "cell_type": "code",
   "execution_count": 60,
   "id": "6457f573",
   "metadata": {},
   "outputs": [],
   "source": [
    "import requests\n",
    "from datetime import datetime\n",
    "import telebot\n",
    "from telebot import types\n",
    "import sqlite3\n",
    "import random\n",
    "\n",
    "import numpy as np\n",
    "import pandas as pd\n",
    "import psutil\n",
    "from IPython.display import Image\n",
    "\n",
    "#Data Source\n",
    "import yfinance as yf\n",
    "\n",
    "#Data viz\n",
    "import plotly.graph_objs as go\n",
    "\n",
    "import kaleido\n",
    "import json\n",
    "import matplotlib.pyplot as plt\n",
    "import seaborn as sns\n",
    "import plotly \n",
    "import plotly.graph_objects as go\n",
    "import collections\n",
    "\n",
    "pd.set_option('display.max_rows', None)\n",
    "pd.set_option('display.max_columns', None)\n",
    "pd.set_option('display.max_colwidth', None)"
   ]
  },
  {
   "cell_type": "code",
   "execution_count": 230,
   "id": "9c2339b4",
   "metadata": {},
   "outputs": [],
   "source": [
    "def candles(data, type2 = False):\n",
    "    #declare figure\n",
    "    fig = go.Figure()\n",
    "\n",
    "    #Candlestick\n",
    "    fig.add_trace(go.Candlestick(x=data.index,\n",
    "                    open=data['Open'],\n",
    "                    high=data['High'],\n",
    "                    low=data['Low'],\n",
    "                    close=data['Close'], name = 'market data'))\n",
    "\n",
    "    # Add titles\n",
    "    \"\"\"fig.update_layout(\n",
    "        #title='Uber live share price evolution',\n",
    "        yaxis_title='Курс акций в долларах')\n",
    "\"\"\"\n",
    "    # Делаем кнопки для навигации\n",
    "    \"\"\" fig.update_xaxes(\n",
    "        rangeslider_visible=True,\n",
    "        rangeselector=dict(\n",
    "            buttons=list([\n",
    "                dict(count=15, label=\"15m\", step=\"minute\", stepmode=\"backward\"),\n",
    "                #dict(count=45, label=\"45m\", step=\"minute\", stepmode=\"backward\"),\n",
    "                dict(count=1, label=\"1h\", step=\"hour\", stepmode=\"backward\"),\n",
    "                dict(count=3, label=\"3h\", step=\"hour\", stepmode=\"backward\"),\n",
    "                dict(count=1, label=\"1d\", step=\"day\", stepmode=\"backward\"),\n",
    "                dict(count=7, label=\"1w\", step=\"day\", stepmode=\"backward\"),\n",
    "                dict(count=1, label=\"1month\", step=\"month\", stepmode=\"backward\"),\n",
    "                dict(step=\"all\")\n",
    "            ])\n",
    "        )\n",
    "    ) \"\"\"\n",
    "\n",
    "    #настраиваем размер графика\n",
    "    fig.update_layout(autosize=True,\n",
    "                      width=1000,\n",
    "                      height=700,)\n",
    "\n",
    "    #убираем разрывы меежду данными. Чтобы график был сплошной. То есть убираем выходные и часы, когда торговля не идет\n",
    "    if type2:    \n",
    "        fig.update_xaxes(\n",
    "                rangeslider_visible=False,\n",
    "                rangebreaks=[\n",
    "                    # NOTE: Below values are bound (not single values), ie. hide x to y\n",
    "                    dict(bounds=[\"sat\", \"mon\"]),  # hide weekends, eg. hide sat to before mon\n",
    "                    #dict(bounds=[16, 9.5], pattern=\"hour\"),  # hide hours outside of 9.30am-4pm\n",
    "                    # dict(values=[\"2019-12-25\", \"2020-12-24\"])  # hide holidays (Christmas and New Year's, etc)\n",
    "                ]\n",
    "            )\n",
    "    else:\n",
    "        fig.update_xaxes(\n",
    "                rangeslider_visible=False,\n",
    "                rangebreaks=[\n",
    "                    # NOTE: Below values are bound (not single values), ie. hide x to y\n",
    "                    dict(bounds=[\"sat\", \"mon\"]),  # hide weekends, eg. hide sat to before mon\n",
    "                    dict(bounds=[16, 9.5], pattern=\"hour\"),  # hide hours outside of 9.30am-4pm\n",
    "                    # dict(values=[\"2019-12-25\", \"2020-12-24\"])  # hide holidays (Christmas and New Year's, etc)\n",
    "                ]\n",
    "            )\n",
    "\n",
    "    #Show\n",
    "    #fig.show()\n",
    "    \n",
    "    return fig"
   ]
  },
  {
   "cell_type": "code",
   "execution_count": 232,
   "id": "9fc3e37f",
   "metadata": {},
   "outputs": [],
   "source": [
    "def current_price(symbol):\n",
    "    data = yf.download(tickers=symbol, period='1m', interval='1m')\n",
    "    \n",
    "    return data['Close'][-1]"
   ]
  },
  {
   "cell_type": "code",
   "execution_count": 233,
   "id": "fa1c94ce",
   "metadata": {},
   "outputs": [],
   "source": [
    "def get_quotes(ticker, period, interval):\n",
    "    data = yf.download(tickers= ticker, period= period, interval= interval)\n",
    "    \n",
    "    if data.size != 0:\n",
    "        return data\n",
    "    else:\n",
    "        return 'неправильные данные'"
   ]
  },
  {
   "cell_type": "code",
   "execution_count": null,
   "id": "960418b5",
   "metadata": {},
   "outputs": [],
   "source": []
  },
  {
   "cell_type": "markdown",
   "id": "dcbee626",
   "metadata": {},
   "source": [
    "# черновик"
   ]
  },
  {
   "cell_type": "code",
   "execution_count": 234,
   "id": "078c951e",
   "metadata": {},
   "outputs": [],
   "source": [
    "# fig.to_image(format=\"png\", engine=\"kaleido\")"
   ]
  },
  {
   "cell_type": "code",
   "execution_count": 235,
   "id": "e61bfcc8",
   "metadata": {},
   "outputs": [],
   "source": [
    "# fig = candles(get_quotes('TSLA', '10d', '15m'))"
   ]
  },
  {
   "cell_type": "markdown",
   "id": "b1852445",
   "metadata": {},
   "source": [
    "# Бот"
   ]
  },
  {
   "cell_type": "code",
   "execution_count": 236,
   "id": "06b82147",
   "metadata": {},
   "outputs": [],
   "source": [
    "bot = telebot.TeleBot(\"1834334715:AAEtTI6RuWqg7zMW0uCPJWb5_DfRfQ7UdtI\")"
   ]
  },
  {
   "cell_type": "code",
   "execution_count": 237,
   "id": "8e7018f4",
   "metadata": {},
   "outputs": [],
   "source": [
    "# result_photo = candles(get_quotes('TSLA', '10d', '1h')).to_image(format=\"png\", engine=\"kaleido\")"
   ]
  },
  {
   "cell_type": "code",
   "execution_count": 239,
   "id": "f6d87747",
   "metadata": {},
   "outputs": [],
   "source": [
    "@bot.message_handler(content_types=['text'])\n",
    "def responser(message, text='а там армяне в нарды играют'):\n",
    "    try:\n",
    "        ticker, period, interval = message.text.split()\n",
    "        if interval in [\"1m\",\"2m\",\"5m\",\"15m\",\"30m\",\"60m\",\"90m\",\"1h\"]:\n",
    "            result_photo = candles(get_quotes(ticker, period, interval)).to_image(format=\"png\", engine=\"kaleido\")\n",
    "            bot.send_photo(message.chat.id, result_photo)\n",
    "        else:\n",
    "            result_photo = candles(get_quotes(ticker, period, interval), type2 = True).to_image(format=\"png\", engine=\"kaleido\")\n",
    "            bot.send_photo(message.chat.id, result_photo)\n",
    "    except:\n",
    "        bot.send_message(message.chat.id, text = 'Укажите другие данные')"
   ]
  },
  {
   "cell_type": "code",
   "execution_count": 240,
   "id": "d43e0247",
   "metadata": {},
   "outputs": [
    {
     "name": "stdout",
     "output_type": "stream",
     "text": [
      "[*********************100%***********************]  1 of 1 completed\n",
      "\n",
      "1 Failed download:\n",
      "- YNDX: 1m data not available for startTime=1622735493 and endTime=1623599493. Only 7 days worth of 1m granularity data are allowed to be fetched per request.\n",
      "[*********************100%***********************]  1 of 1 completed\n",
      "[*********************100%***********************]  1 of 1 completed\n"
     ]
    }
   ],
   "source": [
    "bot.polling(none_stop=True)"
   ]
  },
  {
   "cell_type": "code",
   "execution_count": null,
   "id": "0ba80361",
   "metadata": {},
   "outputs": [],
   "source": []
  },
  {
   "cell_type": "markdown",
   "id": "3a9761da",
   "metadata": {},
   "source": [
    "Valid periods: 1d,5d,1mo,3mo,6mo,1y,2y,5y,10y,ytd,max\n",
    "            \n",
    "Valid intervals: 1m,2m,5m,15m,30m,60m,90m,1h,1d,5d,1wk,1mo,3mo           \n",
    "        "
   ]
  },
  {
   "cell_type": "code",
   "execution_count": 252,
   "id": "5c2f0b80",
   "metadata": {},
   "outputs": [
    {
     "name": "stdout",
     "output_type": "stream",
     "text": [
      "[*********************100%***********************]  1 of 1 completed\n"
     ]
    },
    {
     "data": {
      "text/plain": [
       "609.8900146484375"
      ]
     },
     "execution_count": 252,
     "metadata": {},
     "output_type": "execute_result"
    }
   ],
   "source": [
    "current_price('TSLA')\n"
   ]
  },
  {
   "cell_type": "markdown",
   "id": "3b725721",
   "metadata": {},
   "source": [
    "# Используем апишки для получения новостей"
   ]
  },
  {
   "cell_type": "markdown",
   "id": "b742872d",
   "metadata": {},
   "source": [
    "Я написал по две версии функций для разных апи. Кмк полигон (вторые версии) получше"
   ]
  },
  {
   "cell_type": "code",
   "execution_count": 213,
   "id": "a6e50395",
   "metadata": {},
   "outputs": [],
   "source": [
    "goog_token = \"ef44e796dd82495d9b0ac4ed58354d70\"\n",
    "hub_token = \"c33nijqad3i8edlc7t50\"\n",
    "polygon_token = \"ZrbA9bOMxg8Nf2qyV14nzV1DLk65mFip\""
   ]
  },
  {
   "cell_type": "code",
   "execution_count": 214,
   "id": "17d9c3ec",
   "metadata": {},
   "outputs": [],
   "source": [
    "#получение одной новости из финхаба\n",
    "def get_news(ticker):\n",
    "    global hub_token\n",
    "    today = str(datetime.date(datetime.now()))\n",
    "    r = requests.get(f'https://finnhub.io/api/v1/company-news?symbol={ticker}&from={today}&to={today}&token={token}')\n",
    "    headline = r.json()[0]['headline']\n",
    "    url = r.json()[0]['url']\n",
    "    return (headline, url)"
   ]
  },
  {
   "cell_type": "code",
   "execution_count": 215,
   "id": "31724fd0",
   "metadata": {},
   "outputs": [],
   "source": [
    "#получение одной новости из полигона\n",
    "def get_news2(ticker): \n",
    "    global polygon_token\n",
    "    url = (f'https://api.polygon.io/v2/reference/news?limit=10&order=descending&sort=published_utc&ticker={ticker}&published_utc.gte=2021-04-26&apiKey={polygon_token}')\n",
    "    response = requests.get(url).json()['results']\n",
    "    headline = response[0]['title']\n",
    "    url = response[0]['article_url']\n",
    "    return (headline, url)"
   ]
  },
  {
   "cell_type": "code",
   "execution_count": 216,
   "id": "95bbb59e",
   "metadata": {},
   "outputs": [],
   "source": [
    "#получение списка всех новостей из финхаба (заголовки)\n",
    "def get_news_headlines(ticker):\n",
    "    global hub_token\n",
    "    today = str(datetime.date(datetime.now()))\n",
    "    r = requests.get(f'https://finnhub.io/api/v1/company-news?symbol={ticker}&from={today}&to={today}&token={token}')\n",
    "    r = r.json()\n",
    "    #print(r)\n",
    "    a = []\n",
    "    for i in r:\n",
    "        a.append(i['headline'])\n",
    "    return a"
   ]
  },
  {
   "cell_type": "code",
   "execution_count": 217,
   "id": "0d5882da",
   "metadata": {},
   "outputs": [],
   "source": [
    "#получение списка всех новостей из полигона (заголовки)\n",
    "def get_news_headlines2(ticker):\n",
    "    global polygon_token\n",
    "    url = (f'https://api.polygon.io/v2/reference/news?limit=10&order=descending&sort=published_utc&ticker={ticker}&published_utc.gte=2021-04-26&apiKey={polygon_token}')\n",
    "    r = requests.get(url).json()['results']\n",
    "    a = []\n",
    "    for i in r:\n",
    "        a.append(i['title'])\n",
    "    return a"
   ]
  },
  {
   "cell_type": "code",
   "execution_count": 218,
   "id": "b9739250",
   "metadata": {},
   "outputs": [
    {
     "data": {
      "text/plain": [
       "('2021 Year-To-Date Percentage Returns Of 8 Largest Stocks - Saturday, June 12',\n",
       " 'https://finnhub.io/api/news?id=7093c3c36749d924d1aebf16eeb50241b0518fb15520d2e2a37d534b55baa74a')"
      ]
     },
     "execution_count": 218,
     "metadata": {},
     "output_type": "execute_result"
    }
   ],
   "source": [
    "get_news(\"MSFT\")"
   ]
  },
  {
   "cell_type": "code",
   "execution_count": 219,
   "id": "235201ca",
   "metadata": {},
   "outputs": [
    {
     "data": {
      "text/plain": [
       "('Qualcomm Offers Help to Arm Holdings If NVIDIA Acquisition Is Blocked',\n",
       " 'https://www.fool.com/investing/2021/06/14/qualcomm-offers-help-to-arm-holdings-if-nvidia-acq/')"
      ]
     },
     "execution_count": 219,
     "metadata": {},
     "output_type": "execute_result"
    }
   ],
   "source": [
    "get_news2(\"MSFT\")"
   ]
  },
  {
   "cell_type": "code",
   "execution_count": 220,
   "id": "3972ceba",
   "metadata": {},
   "outputs": [
    {
     "data": {
      "text/plain": [
       "['2021 Year-To-Date Percentage Returns Of 8 Largest Stocks - Saturday, June 12',\n",
       " 'Dow Jones Futures Edge Higher: Apple Vs. Microsoft Vs. Google; How To Be A Big Stock Market Winner',\n",
       " 'Microsoft bolsters video game line-up as Xbox turns 20']"
      ]
     },
     "execution_count": 220,
     "metadata": {},
     "output_type": "execute_result"
    }
   ],
   "source": [
    "get_news_headlines(\"MSFT\")"
   ]
  },
  {
   "cell_type": "code",
   "execution_count": 225,
   "id": "2d14ab10",
   "metadata": {},
   "outputs": [
    {
     "data": {
      "text/plain": [
       "['Qualcomm Offers Help to Arm Holdings If NVIDIA Acquisition Is Blocked',\n",
       " \"Can AMD Help Microsoft Beat Sony PS5's Scorching Sales?\",\n",
       " '3 Enterprise Communications Stocks in Focus as Hybrid Work Revs Up',\n",
       " 'Google Intensifies Microsoft, Zoom, Slack Competition Via Workspace Suite Beef Up: Bloomberg',\n",
       " 'Microsoft (MSFT) to Bring 27 New Titles to Xbox Game Pass',\n",
       " 'The Zacks Analyst Blog Highlights: Microsoft, Nike, Novo Nordisk, Caterpillar and General Electric',\n",
       " \"What to Watch at Nintendo's E3 Presentation\",\n",
       " 'Should Invesco Dividend Achievers ETF (PFM) Be on Your Investing Radar?',\n",
       " 'This Is Hands Down the Safest Robinhood Stock You Can Buy Right Now',\n",
       " 'Can Zoom Video Stock Reach $600 Again?']"
      ]
     },
     "execution_count": 225,
     "metadata": {},
     "output_type": "execute_result"
    }
   ],
   "source": [
    "get_news_headlines2(\"MSFT\")"
   ]
  },
  {
   "cell_type": "code",
   "execution_count": null,
   "id": "9d987015",
   "metadata": {},
   "outputs": [],
   "source": []
  }
 ],
 "metadata": {
  "kernelspec": {
   "display_name": "Python 3",
   "language": "python",
   "name": "python3"
  },
  "language_info": {
   "codemirror_mode": {
    "name": "ipython",
    "version": 3
   },
   "file_extension": ".py",
   "mimetype": "text/x-python",
   "name": "python",
   "nbconvert_exporter": "python",
   "pygments_lexer": "ipython3",
   "version": "3.9.0"
  }
 },
 "nbformat": 4,
 "nbformat_minor": 5
}
