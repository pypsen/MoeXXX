{
 "cells": [
  {
   "cell_type": "code",
   "execution_count": 1,
   "metadata": {},
   "outputs": [],
   "source": [
    "import telebot\n",
    "from telebot import types\n",
    "import time\n",
    "coun=0 #fortinder\n",
    "from requests import get\n",
    "starlist=['lll', 'iii', 'sss', 'ttt']"
   ]
  },
  {
   "cell_type": "markdown",
   "metadata": {},
   "source": [
    "Это главное меню, тут все норм работает"
   ]
  },
  {
   "cell_type": "code",
   "execution_count": 2,
   "metadata": {},
   "outputs": [],
   "source": [
    "bot = telebot.TeleBot(\"1874823468:AAEbRri8tSAL0gIx4DlTXpjHIhWP-0JNmUw\")\n",
    "@bot.message_handler(commands=['start'])\n",
    "def send_keyboard(message, text=\"Привет, чем я могу тебе помочь?\"):\n",
    "    keyboard = types.ReplyKeyboardMarkup(row_width=2)  # наша клавиатура\n",
    "    itembtn1 = types.KeyboardButton('Подбор вакансии') # создадим кнопку\n",
    "    itembtn2 = types.KeyboardButton('Аналитика')\n",
    "    itembtn3 = types.KeyboardButton('Избранное')\n",
    "    itembtn4 = types.KeyboardButton('Мой профиль')\n",
    "    keyboard.add(itembtn1, itembtn2) \n",
    "    keyboard.add(itembtn3, itembtn4) \n",
    "    resp = bot.send_message(message.from_user.id,\n",
    "                     text=text, reply_markup=keyboard)\n",
    "\n",
    "    bot.register_next_step_handler(resp, hub1)\n",
    "    \n"
   ]
  },
  {
   "cell_type": "markdown",
   "metadata": {},
   "source": [
    "Это навигатор по менюшке"
   ]
  },
  {
   "cell_type": "code",
   "execution_count": null,
   "metadata": {},
   "outputs": [],
   "source": [
    "def hub1(resp): #navigator po menu\n",
    "    if resp.text == 'Подбор вакансии':\n",
    "        msg = bot.send_message(resp.from_user.id,\n",
    "                     text='Укажи название вакансии')\n",
    "        bot.register_next_step_handler(msg, tndr)\n",
    "    elif resp.text == 'Аналитика':\n",
    "        msg = bot.send_message(resp.from_user.id,\n",
    "                     text='Укажи название вакансии чтобы получить подробную аналитику')\n",
    "        bot.register_next_step_handler(msg, anal)\n",
    "    elif resp.text == 'Избранное':\n",
    "        msg = bot.send_message(resp.from_user.id,\n",
    "                     text = 'Вот твое избранное:')\n",
    "        star(resp)\n",
    "    elif resp.text == 'Мой профиль':\n",
    "        bot.send_message(resp.from_user.id,\n",
    "                     text='Вот твой профиль')\n",
    "        profile(resp)\n",
    "    else:\n",
    "        bot.send_message(resp.from_user.id,\n",
    "                     text='Некорректно')\n",
    "        send_keyboard(resp)\n"
   ]
  },
  {
   "cell_type": "markdown",
   "metadata": {},
   "source": [
    "## Тиндер\n",
    "Работающий, вместо джангира просто вакансии прифигачить и в да функцию сохранения в переменную старлист"
   ]
  },
  {
   "cell_type": "code",
   "execution_count": 4,
   "metadata": {},
   "outputs": [],
   "source": [
    "def tndr(resp): # tinder\n",
    "    global coun\n",
    "    coun+=1\n",
    "    keyboard = types.ReplyKeyboardMarkup(row_width=2)  # наша клавиатура\n",
    "    itembtn1 = types.KeyboardButton('Да') # создадим кнопку\n",
    "    itembtn2 = types.KeyboardButton('Нет')\n",
    "    itembtn3 = types.KeyboardButton('Астанавитес')\n",
    "    keyboard.add(itembtn1, itembtn2, itembtn3) \n",
    "    msg=bot.send_message(resp.from_user.id,\n",
    "                    text=f'Джангир, {coun} лет', reply_markup=keyboard)\n",
    "    bot.register_next_step_handler(msg, tndr2)\n",
    " \n",
    "def tndr2(resp):\n",
    "    global coun\n",
    "    if resp.text == 'Да':\n",
    "        bot.send_message(resp.from_user.id, text='saved')\n",
    "        tndr(resp)\n",
    "    elif resp.text == 'Астанавитес':\n",
    "        message = bot.send_message(resp.from_user.id,text='Пиздуй-бороздуй')\n",
    "        coun = 0\n",
    "        send_keyboard(resp)\n",
    "    else:\n",
    "        bot.send_message(resp.from_user.id, text='Приму это за нет и сохранять не буду')\n",
    "        tndr(resp)\n",
    "\n"
   ]
  },
  {
   "cell_type": "markdown",
   "metadata": {},
   "source": [
    "## Для аналитики\n",
    " вместо пикчи график, вместо текста чет полезное, прост подставить"
   ]
  },
  {
   "cell_type": "code",
   "execution_count": 5,
   "metadata": {
    "scrolled": true
   },
   "outputs": [],
   "source": [
    "def anal(resp):\n",
    "    keyboard = types.ReplyKeyboardMarkup(row_width=2) \n",
    "    itembtn1 = types.KeyboardButton('Ищо') # создадим кнопку\n",
    "    itembtn2 = types.KeyboardButton('Не ищо')\n",
    "    keyboard.add(itembtn1, itembtn2) \n",
    "    msg = bot.send_message(resp.from_user.id, text='Графичек',reply_markup=keyboard)\n",
    "    bot.send_photo(resp.chat.id,\"https://vk.com/memy_pro_kotow?z=photo-95648824_457263545%2Falbum-95648824_00%2Frev\")  # наша клавиатура\n",
    "    bot.register_next_step_handler(msg, anal2)\n",
    "\n",
    "def anal2(resp):\n",
    "    if resp.text == 'Ищо':\n",
    "        msg=bot.send_message(resp.from_user.id, text='Вводи тогда еще одну вакансию')\n",
    "        bot.register_next_step_handler(msg, anal)\n",
    "    elif resp.text =='Не ищо':\n",
    "        msg=bot.send_message(resp.from_user.id, text='Пиздуй-бороздуй')\n",
    "        send_keyboard(resp)\n",
    "    else:\n",
    "        msg=bot.send_message(resp.from_user.id, text='Ты бы лучше на кнопку нажал')\n",
    "        bot.register_next_step_handler(msg, anal2)\n",
    "\n",
    "    \n"
   ]
  },
  {
   "cell_type": "markdown",
   "metadata": {},
   "source": [
    "## Избранное\n",
    "старлист - список избранного(настоящий), просто надо его генерить из тиндера. Сюда даже подставлять ниче не надо"
   ]
  },
  {
   "cell_type": "code",
   "execution_count": 6,
   "metadata": {},
   "outputs": [],
   "source": [
    "def star(resp):\n",
    "    global starlist\n",
    "    if starlist!=[]:\n",
    "        for i in range(len(starlist)):\n",
    "            msg=bot.send_message(resp.from_user.id, text=str(i+1)+' '+starlist[i])\n",
    "        keyboard = types.ReplyKeyboardMarkup(row_width=2) \n",
    "        itembtn1 = types.KeyboardButton('Удалить 1') # создадим кнопку\n",
    "        itembtn2 = types.KeyboardButton('Удалить 2')\n",
    "        itembtn3 = types.KeyboardButton('Удалить все') # создадим кнопку\n",
    "        itembtn4 = types.KeyboardButton('Назад')\n",
    "        keyboard.add(itembtn1, itembtn2) \n",
    "        keyboard.add(itembtn3, itembtn4) \n",
    "        msg=bot.send_message(resp.from_user.id, text='Можешь нажать на кнопку или написать Удалить N чтобы удалить N-ное избранное', \n",
    "                             reply_markup=keyboard)\n",
    "        bot.register_next_step_handler(msg, star2)\n",
    "    else:\n",
    "        bot.send_message(resp.from_user.id, text='Нету такого')\n",
    "        send_keyboard(resp)\n",
    "    \n",
    "\n",
    "    \n",
    "    \n",
    "def star2(resp):\n",
    "    global starlist\n",
    "    if resp.text.split(' ')[0] =='Удалить':\n",
    "        if resp.text.split(' ')[1].isdigit():\n",
    "            n=int(resp.text.split(' ')[1])\n",
    "            try:\n",
    "                starlist.pop(n-1)\n",
    "                msg = bot.send_message(resp.from_user.id, \n",
    "                                       text='Удалил избранное под выбранным номером. Нажми на кнопку(любую) еще раз')\n",
    "                bot.register_next_step_handler(msg, star2)\n",
    "            except:\n",
    "                msg = bot.send_message(resp.from_user.id, \n",
    "                                       text='Число кривое ацтань, нажми на кнопку(любую) еще раз')\n",
    "                bot.register_next_step_handler(msg, star2)\n",
    "        if resp.text.split(' ')[1] == 'все':\n",
    "            starlist = []\n",
    "            msg = bot.send_message(resp.from_user.id, text='Удалил все')\n",
    "            send_keyboard(resp)\n",
    "    if resp.text=='Назад':\n",
    "        send_keyboard(resp)\n"
   ]
  },
  {
   "cell_type": "markdown",
   "metadata": {},
   "source": [
    "## Заполнение профиля\n",
    "Тут внутрь функций город зп станция подставить работу с полученным респонсом(запись в базу), вместо первого сообщения реальный профиль, все остальное норм"
   ]
  },
  {
   "cell_type": "code",
   "execution_count": null,
   "metadata": {},
   "outputs": [],
   "source": [
    "def profile(resp):\n",
    "    bot.send_message(resp.from_user.id, text='Вотут все данные лежать должны')\n",
    "    keyboard = types.ReplyKeyboardMarkup(row_width=2) \n",
    "    itembtn1 = types.KeyboardButton('Город') # создадим кнопку\n",
    "    itembtn2 = types.KeyboardButton('Станция метро')\n",
    "    itembtn3 = types.KeyboardButton('Минимальная зп') # создадим кнопку\n",
    "    itembtn4 = types.KeyboardButton('Назад')\n",
    "    keyboard.add(itembtn1, itembtn2) \n",
    "    keyboard.add(itembtn3, itembtn4) \n",
    "    msg = bot.send_message(resp.from_user.id, text='Выбери раздел в который хочешь внести изменения', \n",
    "                             reply_markup=keyboard)\n",
    "    bot.register_next_step_handler(msg, profile0)\n",
    "def profile0(resp):\n",
    "    if resp.text == 'Город':\n",
    "        msg = bot.send_message(resp.from_user.id, text='Введи изменения')\n",
    "        bot.register_next_step_handler(msg, city)\n",
    "    elif resp.text == 'Станция метро':\n",
    "        msg = bot.send_message(resp.from_user.id, text='Введи изменения')\n",
    "        bot.register_next_step_handler(msg, metro)\n",
    "    elif resp.text == 'Минимальная зп':\n",
    "        msg = bot.send_message(resp.from_user.id, text='Введи изменения')\n",
    "        bot.register_next_step_handler(msg, payment)\n",
    "    elif resp.text == 'Назад':\n",
    "        send_keyboard(resp)\n",
    "    else:\n",
    "        msg=bot.send_message(resp.from_user.id, text='Ты бы лучше на кнопку нажал')\n",
    "        bot.register_next_step_handler(msg, profile0)\n",
    "def city(resp):\n",
    "    bot.send_message(resp.from_user.id, text='Изменения приняты, вот ваш обновленный профиль:')\n",
    "    profile(resp)\n",
    "def metro(resp):\n",
    "    bot.send_message(resp.from_user.id, text='Изменения приняты, вот ваш обновленный профиль:')\n",
    "    profile(resp)\n",
    "def payment(resp):\n",
    "    bot.send_message(resp.from_user.id, text='Изменения приняты, вот ваш обновленный профиль:')\n",
    "    profile(resp)\n",
    "\n",
    "bot.infinity_polling()\n"
   ]
  },
  {
   "cell_type": "code",
   "execution_count": null,
   "metadata": {},
   "outputs": [],
   "source": []
  },
  {
   "cell_type": "code",
   "execution_count": null,
   "metadata": {},
   "outputs": [],
   "source": []
  },
  {
   "cell_type": "code",
   "execution_count": null,
   "metadata": {},
   "outputs": [],
   "source": []
  },
  {
   "cell_type": "code",
   "execution_count": null,
   "metadata": {},
   "outputs": [],
   "source": []
  },
  {
   "cell_type": "code",
   "execution_count": null,
   "metadata": {},
   "outputs": [],
   "source": []
  },
  {
   "cell_type": "code",
   "execution_count": null,
   "metadata": {},
   "outputs": [],
   "source": []
  }
 ],
 "metadata": {
  "kernelspec": {
   "display_name": "Python 3",
   "language": "python",
   "name": "python3"
  },
  "language_info": {
   "codemirror_mode": {
    "name": "ipython",
    "version": 3
   },
   "file_extension": ".py",
   "mimetype": "text/x-python",
   "name": "python",
   "nbconvert_exporter": "python",
   "pygments_lexer": "ipython3",
   "version": "3.8.5"
  }
 },
 "nbformat": 4,
 "nbformat_minor": 4
}
