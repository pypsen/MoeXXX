{
 "cells": [
  {
   "cell_type": "markdown",
   "metadata": {},
   "source": [
    "### Нерешенные проблемы\n",
    "\n",
    "- Я не понимаю как заставить работать функцию \"назад\"\n",
    "- Нужно сохранять и подргружать данные из json-а, это легко\n",
    "- Нужно придумать метрику и логику для статистики\n",
    "- Нужно оценить размер хранимых данных\n",
    "- Нужно привязать парсинг и нормальные данные к коду\n",
    "- Нет приятного оформления интерфейса \n",
    "- Аномалии не обработаны "
   ]
  },
  {
   "cell_type": "code",
   "execution_count": null,
   "metadata": {},
   "outputs": [],
   "source": [
    "import telebot\n",
    "from telebot import types\n",
    "import sqlite3\n",
    "import random\n",
    "\n",
    "m_m_btn = ['Мой портфель','Биржа','Статистика','Рейтинг'] #Main menu buttons\n",
    "\n",
    "stocks_btn = ['YNDX','HUH','AAPL','GOOG','AMZN','GACHI','TSLA','IUP','GME'] # Челы закупаемся гачи\n",
    "\n",
    "clients = dict()\n",
    "\n",
    "stocks = dict()\n",
    "\n",
    "stocks['sample_ticker'] = {'current_price' : 5, 'company_name' : '123', 'info' : {}}\n",
    "stocks['sample_ticker_1'] = {'current_price' : 5, 'company_name' : '123', 'info' : {}}\n"
   ]
  },
  {
   "cell_type": "code",
   "execution_count": null,
   "metadata": {},
   "outputs": [],
   "source": []
  },
  {
   "cell_type": "code",
   "execution_count": null,
   "metadata": {},
   "outputs": [],
   "source": [
    "def register_client(client_id):\n",
    "    global clients\n",
    "    if client_id not in clients:\n",
    "        clients[client_id] = {'stocks': {},\n",
    "                              'registration_date': 0,\n",
    "                              'history': [],\n",
    "                              'account': 1000000\n",
    "                             }\n",
    "        \n",
    "def register_stock(item):\n",
    "    global stocks\n",
    "    if item not in stocks:\n",
    "        stocks[item] = {'current_price' : random.randint(0,400), 'company_name' : '123', 'info' : {}}\n",
    "        \n",
    "\n",
    "def buy(client_id, ticker, quantity):\n",
    "    global stocks, clients            \n",
    "    cost = stocks[ticker]['current_price'] * quantity\n",
    "    if ticker not in clients[client_id]['stocks'].keys():\n",
    "        clients[client_id]['stocks'][ticker] = {'buy_price': 0, 'quantity': 0}\n",
    "    clients[client_id]['account'] -= cost\n",
    "    clients[client_id]['stocks'][ticker]['quantity'] += quantity\n",
    "            \n",
    "            \n",
    "def sell(client_id, ticker, quantity):\n",
    "    global stocks, clients                                               #возможно while\n",
    "    cost = stocks[ticker]['current_price'] * quantity \n",
    "    if ticker not in clients[client_id]['stocks'].keys():\n",
    "        clients[client_id]['stocks'][ticker] = {'buy_price': 0, 'quantity': 0}\n",
    "    clients[client_id]['account'] += cost\n",
    "    clients[client_id]['stocks'][ticker]['quantity'] -= quantity       \n"
   ]
  },
  {
   "cell_type": "code",
   "execution_count": null,
   "metadata": {},
   "outputs": [],
   "source": [
    "for item in stocks_btn:\n",
    "    register_stock(item)\n",
    "stocks"
   ]
  },
  {
   "cell_type": "code",
   "execution_count": null,
   "metadata": {},
   "outputs": [],
   "source": []
  },
  {
   "cell_type": "code",
   "execution_count": null,
   "metadata": {},
   "outputs": [],
   "source": []
  },
  {
   "cell_type": "markdown",
   "metadata": {},
   "source": [
    "### Ветка маркета\n",
    "\n"
   ]
  },
  {
   "cell_type": "code",
   "execution_count": null,
   "metadata": {},
   "outputs": [],
   "source": [
    "def get_operation(msg):\n",
    "    \n",
    "    global operation \n",
    "    if msg.text == 'Назад':\n",
    "        bot.register_next_step_handler(msg, callback_worker)\n",
    "    elif msg.text == 'BUY':\n",
    "\n",
    "        operation = msg.text\n",
    "        try:\n",
    "            keyboard = types.ReplyKeyboardMarkup(row_width=2)\n",
    "            for i in range(len(stocks_btn)):\n",
    "                keyboard.add(types.KeyboardButton(stocks_btn[i]))\n",
    "\n",
    "            msg = bot.send_message(msg.chat.id, text = 'Выберите акцию', reply_markup=keyboard)\n",
    "            bot.register_next_step_handler(msg, get_ticker)\n",
    "        \n",
    "        except:\n",
    "            pass\n",
    "        \n",
    "    elif msg.text == 'SELL':\n",
    "        operation = msg.text\n",
    "        try:\n",
    "            keyboard = types.ReplyKeyboardMarkup(row_width=2)\n",
    "            for i in range(len(stocks_btn)):\n",
    "                keyboard.add(types.KeyboardButton(stocks_btn[i]))\n",
    "\n",
    "            msg = bot.send_message(msg.chat.id, text = 'Выберите акцию', reply_markup=keyboard)\n",
    "            bot.register_next_step_handler(msg, get_ticker)\n",
    "        \n",
    "        except:\n",
    "            pass\n",
    "        \n",
    "        \n",
    "def get_ticker(msg):\n",
    "    \n",
    "    global ticker\n",
    "    ticker = msg.text\n",
    "    msg = bot.send_message(msg.chat.id, text = 'Введите количество')\n",
    "    bot.register_next_step_handler(msg, get_quantity)\n",
    "        \n",
    "        \n",
    "def get_quantity(msg):\n",
    "    \n",
    "    global quantity\n",
    "    quantity = int(msg.text)\n",
    "    keyboard = types.ReplyKeyboardMarkup(row_width=2)\n",
    "    keyboard.add(types.KeyboardButton('Назад'),types.KeyboardButton('Подтвердить'))\n",
    "    msg = bot.send_message(msg.chat.id, text = 'Подтвердите операцию', reply_markup=keyboard)\n",
    "    bot.register_next_step_handler(msg, get_confirm)\n",
    "    \n",
    "    \n",
    "def get_confirm(msg):\n",
    "\n",
    "    keyboard = types.ReplyKeyboardMarkup(row_width=1)\n",
    "    keyboard.add(types.KeyboardButton('В главное меню')) \n",
    "    if msg.text == 'Подтвердить':\n",
    "        \n",
    "        global quantity, ticker, operation\n",
    "        \n",
    "        if operation == 'BUY':\n",
    "            buy(msg.from_user.id, ticker, quantity)\n",
    "        elif operation == 'SELL':\n",
    "            sell(msg.from_user.id, ticker, quantity)\n",
    "              \n",
    "        msg = bot.send_message(msg.chat.id, 'Операция успешно совершена!')  \n",
    "        bot.register_next_step_handler(msg, send_keyboard)\n",
    "    "
   ]
  },
  {
   "cell_type": "code",
   "execution_count": null,
   "metadata": {},
   "outputs": [],
   "source": []
  },
  {
   "cell_type": "code",
   "execution_count": null,
   "metadata": {},
   "outputs": [],
   "source": [
    "# Функция обработки списка активов челикса в строку\n",
    "\n",
    "def stocks_to_string(client_id):\n",
    "    global stocks \n",
    "    s = 'Ваши акции: \\n'\n",
    "    for item in sorted(clients[client_id]['stocks'].keys()):\n",
    "        s += item + ': ' + str(clients[client_id]['stocks'][item]['quantity']) + ' цена: ' + str(stocks[item]['current_price'] )+ '\\n'\n",
    "        \n",
    "    s =  s + 'Ваш баланс: ' + str(clients[client_id]['account'])\n",
    "                              \n",
    "    return s"
   ]
  },
  {
   "cell_type": "code",
   "execution_count": null,
   "metadata": {},
   "outputs": [],
   "source": []
  },
  {
   "cell_type": "code",
   "execution_count": null,
   "metadata": {},
   "outputs": [],
   "source": [
    "clients"
   ]
  },
  {
   "cell_type": "code",
   "execution_count": null,
   "metadata": {},
   "outputs": [],
   "source": [
    "{'stocks': {},\n",
    "                              'registration_date': 0,\n",
    "                              'history': [],\n",
    "                              'account': 1000000\n",
    "                             }"
   ]
  },
  {
   "cell_type": "code",
   "execution_count": 9,
   "metadata": {},
   "outputs": [
    {
     "ename": "TypeError",
     "evalue": "send_message() missing 1 required positional argument: 'text'",
     "output_type": "error",
     "traceback": [
      "\u001b[1;31m---------------------------------------------------------------------------\u001b[0m",
      "\u001b[1;31mTypeError\u001b[0m                                 Traceback (most recent call last)",
      "\u001b[1;32m<ipython-input-9-45ca86321171>\u001b[0m in \u001b[0;36m<module>\u001b[1;34m\u001b[0m\n\u001b[0;32m     55\u001b[0m \u001b[1;33m\u001b[0m\u001b[0m\n\u001b[0;32m     56\u001b[0m \u001b[1;33m\u001b[0m\u001b[0m\n\u001b[1;32m---> 57\u001b[1;33m \u001b[0mbot\u001b[0m\u001b[1;33m.\u001b[0m\u001b[0mpolling\u001b[0m\u001b[1;33m(\u001b[0m\u001b[0mnone_stop\u001b[0m\u001b[1;33m=\u001b[0m\u001b[1;32mTrue\u001b[0m\u001b[1;33m)\u001b[0m \u001b[1;31m# или bot.infinity_polling()\u001b[0m\u001b[1;33m\u001b[0m\u001b[1;33m\u001b[0m\u001b[0m\n\u001b[0m",
      "\u001b[1;32m~\\anaconda3\\lib\\site-packages\\telebot\\__init__.py\u001b[0m in \u001b[0;36mpolling\u001b[1;34m(self, none_stop, interval, timeout, long_polling_timeout)\u001b[0m\n\u001b[0;32m    512\u001b[0m         \"\"\"\n\u001b[0;32m    513\u001b[0m         \u001b[1;32mif\u001b[0m \u001b[0mself\u001b[0m\u001b[1;33m.\u001b[0m\u001b[0mthreaded\u001b[0m\u001b[1;33m:\u001b[0m\u001b[1;33m\u001b[0m\u001b[1;33m\u001b[0m\u001b[0m\n\u001b[1;32m--> 514\u001b[1;33m             \u001b[0mself\u001b[0m\u001b[1;33m.\u001b[0m\u001b[0m__threaded_polling\u001b[0m\u001b[1;33m(\u001b[0m\u001b[0mnone_stop\u001b[0m\u001b[1;33m,\u001b[0m \u001b[0minterval\u001b[0m\u001b[1;33m,\u001b[0m \u001b[0mtimeout\u001b[0m\u001b[1;33m,\u001b[0m \u001b[0mlong_polling_timeout\u001b[0m\u001b[1;33m)\u001b[0m\u001b[1;33m\u001b[0m\u001b[1;33m\u001b[0m\u001b[0m\n\u001b[0m\u001b[0;32m    515\u001b[0m         \u001b[1;32melse\u001b[0m\u001b[1;33m:\u001b[0m\u001b[1;33m\u001b[0m\u001b[1;33m\u001b[0m\u001b[0m\n\u001b[0;32m    516\u001b[0m             \u001b[0mself\u001b[0m\u001b[1;33m.\u001b[0m\u001b[0m__non_threaded_polling\u001b[0m\u001b[1;33m(\u001b[0m\u001b[0mnone_stop\u001b[0m\u001b[1;33m,\u001b[0m \u001b[0minterval\u001b[0m\u001b[1;33m,\u001b[0m \u001b[0mtimeout\u001b[0m\u001b[1;33m,\u001b[0m \u001b[0mlong_polling_timeout\u001b[0m\u001b[1;33m)\u001b[0m\u001b[1;33m\u001b[0m\u001b[1;33m\u001b[0m\u001b[0m\n",
      "\u001b[1;32m~\\anaconda3\\lib\\site-packages\\telebot\\__init__.py\u001b[0m in \u001b[0;36m__threaded_polling\u001b[1;34m(self, non_stop, interval, timeout, long_polling_timeout)\u001b[0m\n\u001b[0;32m    571\u001b[0m                     \u001b[0mpolling_thread\u001b[0m\u001b[1;33m.\u001b[0m\u001b[0mclear_exceptions\u001b[0m\u001b[1;33m(\u001b[0m\u001b[1;33m)\u001b[0m   \u001b[1;31m#*\u001b[0m\u001b[1;33m\u001b[0m\u001b[1;33m\u001b[0m\u001b[0m\n\u001b[0;32m    572\u001b[0m                     \u001b[0mself\u001b[0m\u001b[1;33m.\u001b[0m\u001b[0mworker_pool\u001b[0m\u001b[1;33m.\u001b[0m\u001b[0mclear_exceptions\u001b[0m\u001b[1;33m(\u001b[0m\u001b[1;33m)\u001b[0m \u001b[1;31m#*\u001b[0m\u001b[1;33m\u001b[0m\u001b[1;33m\u001b[0m\u001b[0m\n\u001b[1;32m--> 573\u001b[1;33m                     \u001b[1;32mraise\u001b[0m \u001b[0me\u001b[0m\u001b[1;33m\u001b[0m\u001b[1;33m\u001b[0m\u001b[0m\n\u001b[0m\u001b[0;32m    574\u001b[0m                 \u001b[1;32melse\u001b[0m\u001b[1;33m:\u001b[0m\u001b[1;33m\u001b[0m\u001b[1;33m\u001b[0m\u001b[0m\n\u001b[0;32m    575\u001b[0m                     \u001b[0mpolling_thread\u001b[0m\u001b[1;33m.\u001b[0m\u001b[0mclear_exceptions\u001b[0m\u001b[1;33m(\u001b[0m\u001b[1;33m)\u001b[0m\u001b[1;33m\u001b[0m\u001b[1;33m\u001b[0m\u001b[0m\n",
      "\u001b[1;32m~\\anaconda3\\lib\\site-packages\\telebot\\__init__.py\u001b[0m in \u001b[0;36m__threaded_polling\u001b[1;34m(self, non_stop, interval, timeout, long_polling_timeout)\u001b[0m\n\u001b[0;32m    534\u001b[0m                 \u001b[0mor_event\u001b[0m\u001b[1;33m.\u001b[0m\u001b[0mwait\u001b[0m\u001b[1;33m(\u001b[0m\u001b[1;33m)\u001b[0m  \u001b[1;31m# wait for polling thread finish, polling thread error or thread pool error\u001b[0m\u001b[1;33m\u001b[0m\u001b[1;33m\u001b[0m\u001b[0m\n\u001b[0;32m    535\u001b[0m                 \u001b[0mpolling_thread\u001b[0m\u001b[1;33m.\u001b[0m\u001b[0mraise_exceptions\u001b[0m\u001b[1;33m(\u001b[0m\u001b[1;33m)\u001b[0m\u001b[1;33m\u001b[0m\u001b[1;33m\u001b[0m\u001b[0m\n\u001b[1;32m--> 536\u001b[1;33m                 \u001b[0mself\u001b[0m\u001b[1;33m.\u001b[0m\u001b[0mworker_pool\u001b[0m\u001b[1;33m.\u001b[0m\u001b[0mraise_exceptions\u001b[0m\u001b[1;33m(\u001b[0m\u001b[1;33m)\u001b[0m\u001b[1;33m\u001b[0m\u001b[1;33m\u001b[0m\u001b[0m\n\u001b[0m\u001b[0;32m    537\u001b[0m                 \u001b[0merror_interval\u001b[0m \u001b[1;33m=\u001b[0m \u001b[1;36m0.25\u001b[0m\u001b[1;33m\u001b[0m\u001b[1;33m\u001b[0m\u001b[0m\n\u001b[0;32m    538\u001b[0m             \u001b[1;32mexcept\u001b[0m \u001b[0mapihelper\u001b[0m\u001b[1;33m.\u001b[0m\u001b[0mApiException\u001b[0m \u001b[1;32mas\u001b[0m \u001b[0me\u001b[0m\u001b[1;33m:\u001b[0m\u001b[1;33m\u001b[0m\u001b[1;33m\u001b[0m\u001b[0m\n",
      "\u001b[1;32m~\\anaconda3\\lib\\site-packages\\telebot\\util.py\u001b[0m in \u001b[0;36mraise_exceptions\u001b[1;34m(self)\u001b[0m\n\u001b[0;32m    115\u001b[0m     \u001b[1;32mdef\u001b[0m \u001b[0mraise_exceptions\u001b[0m\u001b[1;33m(\u001b[0m\u001b[0mself\u001b[0m\u001b[1;33m)\u001b[0m\u001b[1;33m:\u001b[0m\u001b[1;33m\u001b[0m\u001b[1;33m\u001b[0m\u001b[0m\n\u001b[0;32m    116\u001b[0m         \u001b[1;32mif\u001b[0m \u001b[0mself\u001b[0m\u001b[1;33m.\u001b[0m\u001b[0mexception_event\u001b[0m\u001b[1;33m.\u001b[0m\u001b[0mis_set\u001b[0m\u001b[1;33m(\u001b[0m\u001b[1;33m)\u001b[0m\u001b[1;33m:\u001b[0m\u001b[1;33m\u001b[0m\u001b[1;33m\u001b[0m\u001b[0m\n\u001b[1;32m--> 117\u001b[1;33m             \u001b[1;32mraise\u001b[0m \u001b[0mself\u001b[0m\u001b[1;33m.\u001b[0m\u001b[0mexception_info\u001b[0m\u001b[1;33m\u001b[0m\u001b[1;33m\u001b[0m\u001b[0m\n\u001b[0m\u001b[0;32m    118\u001b[0m \u001b[1;33m\u001b[0m\u001b[0m\n\u001b[0;32m    119\u001b[0m     \u001b[1;32mdef\u001b[0m \u001b[0mclear_exceptions\u001b[0m\u001b[1;33m(\u001b[0m\u001b[0mself\u001b[0m\u001b[1;33m)\u001b[0m\u001b[1;33m:\u001b[0m\u001b[1;33m\u001b[0m\u001b[1;33m\u001b[0m\u001b[0m\n",
      "\u001b[1;32m~\\anaconda3\\lib\\site-packages\\telebot\\util.py\u001b[0m in \u001b[0;36mrun\u001b[1;34m(self)\u001b[0m\n\u001b[0;32m     67\u001b[0m                 \u001b[0mself\u001b[0m\u001b[1;33m.\u001b[0m\u001b[0mreceived_task_event\u001b[0m\u001b[1;33m.\u001b[0m\u001b[0mset\u001b[0m\u001b[1;33m(\u001b[0m\u001b[1;33m)\u001b[0m\u001b[1;33m\u001b[0m\u001b[1;33m\u001b[0m\u001b[0m\n\u001b[0;32m     68\u001b[0m \u001b[1;33m\u001b[0m\u001b[0m\n\u001b[1;32m---> 69\u001b[1;33m                 \u001b[0mtask\u001b[0m\u001b[1;33m(\u001b[0m\u001b[1;33m*\u001b[0m\u001b[0margs\u001b[0m\u001b[1;33m,\u001b[0m \u001b[1;33m**\u001b[0m\u001b[0mkwargs\u001b[0m\u001b[1;33m)\u001b[0m\u001b[1;33m\u001b[0m\u001b[1;33m\u001b[0m\u001b[0m\n\u001b[0m\u001b[0;32m     70\u001b[0m                 \u001b[0mlogger\u001b[0m\u001b[1;33m.\u001b[0m\u001b[0mdebug\u001b[0m\u001b[1;33m(\u001b[0m\u001b[1;34m\"Task complete\"\u001b[0m\u001b[1;33m)\u001b[0m\u001b[1;33m\u001b[0m\u001b[1;33m\u001b[0m\u001b[0m\n\u001b[0;32m     71\u001b[0m                 \u001b[0mself\u001b[0m\u001b[1;33m.\u001b[0m\u001b[0mdone_event\u001b[0m\u001b[1;33m.\u001b[0m\u001b[0mset\u001b[0m\u001b[1;33m(\u001b[0m\u001b[1;33m)\u001b[0m\u001b[1;33m\u001b[0m\u001b[1;33m\u001b[0m\u001b[0m\n",
      "\u001b[1;32m<ipython-input-4-9b5871f6ee64>\u001b[0m in \u001b[0;36mget_confirm\u001b[1;34m(msg)\u001b[0m\n\u001b[0;32m     63\u001b[0m             \u001b[0msell\u001b[0m\u001b[1;33m(\u001b[0m\u001b[0mmsg\u001b[0m\u001b[1;33m.\u001b[0m\u001b[0mfrom_user\u001b[0m\u001b[1;33m.\u001b[0m\u001b[0mid\u001b[0m\u001b[1;33m,\u001b[0m \u001b[0mticker\u001b[0m\u001b[1;33m,\u001b[0m \u001b[0mquantity\u001b[0m\u001b[1;33m)\u001b[0m\u001b[1;33m\u001b[0m\u001b[1;33m\u001b[0m\u001b[0m\n\u001b[0;32m     64\u001b[0m \u001b[1;33m\u001b[0m\u001b[0m\n\u001b[1;32m---> 65\u001b[1;33m         \u001b[0mmsg\u001b[0m \u001b[1;33m=\u001b[0m \u001b[0mbot\u001b[0m\u001b[1;33m.\u001b[0m\u001b[0msend_message\u001b[0m\u001b[1;33m(\u001b[0m\u001b[1;34m'Операция успешно совершена!'\u001b[0m\u001b[1;33m)\u001b[0m\u001b[1;33m\u001b[0m\u001b[1;33m\u001b[0m\u001b[0m\n\u001b[0m\u001b[0;32m     66\u001b[0m         \u001b[0mbot\u001b[0m\u001b[1;33m.\u001b[0m\u001b[0mregister_next_step_handler\u001b[0m\u001b[1;33m(\u001b[0m\u001b[0mmsg\u001b[0m\u001b[1;33m,\u001b[0m \u001b[0msend_keyboard\u001b[0m\u001b[1;33m)\u001b[0m\u001b[1;33m\u001b[0m\u001b[1;33m\u001b[0m\u001b[0m\n\u001b[0;32m     67\u001b[0m \u001b[1;33m\u001b[0m\u001b[0m\n",
      "\u001b[1;31mTypeError\u001b[0m: send_message() missing 1 required positional argument: 'text'"
     ]
    }
   ],
   "source": [
    "token ='1577869583:AAGdaTiEB3db1QCj7-HxrGrmK28Ho9rkDa8'\n",
    "\n",
    "bot = telebot.TeleBot(token)\n",
    "\n",
    "@bot.message_handler(commands=['start'])\n",
    "def send_keyboard(msg, text=\"Привет, чем я могу тебе помочь?\"):\n",
    "    keyboard = types.ReplyKeyboardMarkup(row_width=4)  # наша клавиатура\n",
    "    \n",
    "    register_client(msg.from_user.id)\n",
    "    \n",
    "    for i in range(len(m_m_btn)):\n",
    "        keyboard.add(m_m_btn[i])\n",
    "\n",
    "    # пришлем это все сообщением и запишем выбранный вариант\n",
    "    msg = bot.send_message(msg.from_user.id,\n",
    "                     text=text, reply_markup=keyboard)\n",
    "\n",
    "    # отправим этот вариант в функцию, которая его обработает\n",
    "    bot.register_next_step_handler(msg, callback_worker)\n",
    "    \n",
    "# привязываем функции к кнопкам на клавиатуре\n",
    "\n",
    "def callback_worker(msg):\n",
    "    if msg.text == 'Мой портфель':\n",
    "\n",
    "        s = stocks_to_string(msg.from_user.id)\n",
    "        keyboard = types.ReplyKeyboardMarkup(row_width=2)\n",
    "        keyboard.add(types.KeyboardButton('BUY'),types.KeyboardButton('SELL'))\n",
    "        keyboard.add(types.KeyboardButton('Назад'))  \n",
    "        msg = bot.send_message(msg.chat.id, text = s, reply_markup=keyboard)\n",
    "        bot.register_next_step_handler(msg, get_operation)\n",
    "        \n",
    "    elif msg.text == 'Биржа':\n",
    "        \n",
    "        stocks_string = '\\n'.join(stocks_btn)\n",
    "        s = 'Список акций \\n' + stocks_string\n",
    "        \n",
    "        keyboard = types.ReplyKeyboardMarkup(row_width=4)\n",
    "        for i in range(len(stocks_btn) // 2):\n",
    "            keyboard.add(types.KeyboardButton(stocks_btn[i*2]), types.KeyboardButton(stocks_btn[i*2+1]))\n",
    "        keyboard.add(types.KeyboardButton('Назад'))        \n",
    "        msg = bot.send_message(msg.chat.id, text = s, reply_markup=keyboard)\n",
    "        bot.register_next_step_handler(msg, get_ticker)\n",
    "            \n",
    "    elif msg.text == 'Статистика':\n",
    "        pass\n",
    "\n",
    "    elif msg.text == 'Рейтинг':\n",
    "        pass\n",
    "\n",
    "        \n",
    "@bot.message_handler(content_types=['text'])\n",
    "def handle_docs_audio(message):\n",
    "    send_keyboard(message, text=\"Я не понимаю :-( Выберите один из пунктов меню:\")\n",
    "    \n",
    "\n",
    "bot.polling(none_stop=True) # или bot.infinity_polling()"
   ]
  },
  {
   "cell_type": "code",
   "execution_count": null,
   "metadata": {},
   "outputs": [],
   "source": [
    "type(clients[952705641]['stocks']['YNDX']['quantity'])"
   ]
  },
  {
   "cell_type": "code",
   "execution_count": null,
   "metadata": {},
   "outputs": [],
   "source": [
    "clients[1153306527]['stocks']['GACHI']['quantity'] =0"
   ]
  },
  {
   "cell_type": "code",
   "execution_count": null,
   "metadata": {},
   "outputs": [],
   "source": [
    "def stocks_to_string(client_id):\n",
    "    s = str()\n",
    "    for item in sorted(clients[client_id]['stocks'].keys()):\n",
    "        s += item + ': ' + clients[client_id]['stocks'][item] + '\\n'\n",
    "    return s"
   ]
  },
  {
   "cell_type": "code",
   "execution_count": null,
   "metadata": {},
   "outputs": [],
   "source": []
  },
  {
   "cell_type": "code",
   "execution_count": null,
   "metadata": {},
   "outputs": [],
   "source": []
  },
  {
   "cell_type": "code",
   "execution_count": null,
   "metadata": {},
   "outputs": [],
   "source": []
  },
  {
   "cell_type": "code",
   "execution_count": null,
   "metadata": {},
   "outputs": [],
   "source": []
  },
  {
   "cell_type": "code",
   "execution_count": null,
   "metadata": {},
   "outputs": [],
   "source": []
  }
 ],
 "metadata": {
  "kernelspec": {
   "display_name": "Python 3",
   "language": "python",
   "name": "python3"
  },
  "language_info": {
   "codemirror_mode": {
    "name": "ipython",
    "version": 3
   },
   "file_extension": ".py",
   "mimetype": "text/x-python",
   "name": "python",
   "nbconvert_exporter": "python",
   "pygments_lexer": "ipython3",
   "version": "3.8.5"
  }
 },
 "nbformat": 4,
 "nbformat_minor": 4
}
